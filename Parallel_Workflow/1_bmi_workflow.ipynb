{
 "cells": [
  {
   "cell_type": "code",
   "execution_count": 10,
   "id": "f90c9084",
   "metadata": {},
   "outputs": [],
   "source": [
    "from langgraph.graph import StateGraph,START,END\n",
    "from typing import TypedDict"
   ]
  },
  {
   "cell_type": "code",
   "execution_count": 11,
   "id": "c9c0d7d6",
   "metadata": {},
   "outputs": [],
   "source": [
    "#defiging the state\n",
    "class BMIState(TypedDict):\n",
    "    weight:float\n",
    "    height:float\n",
    "    bmi:float\n",
    "    label:str\n",
    "    "
   ]
  },
  {
   "cell_type": "code",
   "execution_count": 12,
   "id": "9215971c",
   "metadata": {},
   "outputs": [],
   "source": [
    "def calculate_bmi(state:BMIState)->BMIState:\n",
    "    weight=state['weight']\n",
    "    height=state['height']\n",
    "    \n",
    "    bmi=weight/(height**2)\n",
    "    state['bmi']=round(bmi,2)\n",
    "    return state\n",
    "    "
   ]
  },
  {
   "cell_type": "code",
   "execution_count": 29,
   "id": "c564fdf1",
   "metadata": {},
   "outputs": [],
   "source": [
    "def label_bmi(state:BMIState)->BMIState:\n",
    "    bmi=state['bmi']\n",
    "    if bmi < 18.5:\n",
    "       state['label']='Underweight'\n",
    "    elif bmi > 18.5 and bmi < 24.9:\n",
    "       state['label']='Healthly Weight'\n",
    "    elif bmi > 25 and bmi < 29.9:\n",
    "       state['label']='Overweight'\n",
    "    else:\n",
    "       state['label']='Obesity'\n",
    "\n",
    "    return state\n",
    "        \n",
    "       "
   ]
  },
  {
   "cell_type": "code",
   "execution_count": 32,
   "id": "4711d287",
   "metadata": {},
   "outputs": [],
   "source": [
    "#define graph\n",
    "graph=StateGraph(BMIState)\n",
    "\n",
    "#adding nodes to graph\n",
    "graph.add_node('calculate_bmi',calculate_bmi)\n",
    "graph.add_node('Label_BMI',label_bmi)\n",
    "\n",
    "#adding edge to graph\n",
    "graph.add_edge(START,'calculate_bmi')\n",
    "graph.add_edge('calculate_bmi','Label_BMI')\n",
    "graph.add_edge('Label_BMI',END)\n",
    "\n",
    "\n",
    "#compile the graph\n",
    "workflow=graph.compile()"
   ]
  },
  {
   "cell_type": "code",
   "execution_count": 33,
   "id": "82205c22",
   "metadata": {},
   "outputs": [
    {
     "name": "stdout",
     "output_type": "stream",
     "text": [
      "{'weight': 82, 'height': 1.73, 'bmi': 27.4, 'label': 'Overweight'}\n"
     ]
    }
   ],
   "source": [
    "#execute the graph\n",
    "intial_state={'weight':82,'height':1.73}\n",
    "final_state=workflow.invoke(intial_state)\n",
    "print(final_state)"
   ]
  },
  {
   "cell_type": "code",
   "execution_count": 24,
   "id": "088c1e90",
   "metadata": {},
   "outputs": [
    {
     "data": {
      "image/png": "[encoded data removed]",
      "text/plain": [
       "<IPython.core.display.Image object>"
      ]
     },
     "execution_count": 24,
     "metadata": {},
     "output_type": "execute_result"
    }
   ],
   "source": [
    "from IPython.display import Image\n",
    "Image(workflow.get_graph().draw_mermaid_png())"
   ]
  },
  {
   "cell_type": "code",
   "execution_count": null,
   "id": "28ba4908",
   "metadata": {},
   "outputs": [],
   "source": []
  }
 ],
 "metadata": {
  "kernelspec": {
   "display_name": "my_env",
   "language": "python",
   "name": "python3"
  },
  "language_info": {
   "codemirror_mode": {
    "name": "ipython",
    "version": 3
   },
   "file_extension": ".py",
   "mimetype": "text/x-python",
   "name": "python",
   "nbconvert_exporter": "python",
   "pygments_lexer": "ipython3",
   "version": "3.12.9"
  }
 },
 "nbformat": 4,
 "nbformat_minor": 5
}
