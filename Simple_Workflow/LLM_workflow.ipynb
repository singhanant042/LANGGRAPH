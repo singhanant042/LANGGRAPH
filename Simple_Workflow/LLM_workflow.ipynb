{
 "cells": [
  {
   "cell_type": "code",
   "execution_count": 41,
   "id": "c4ce9bf7",
   "metadata": {},
   "outputs": [],
   "source": [
    "from langgraph.graph import StateGraph,START,END\n",
    "from typing import TypedDict\n",
    "from langchain_ollama import ChatOllama\n"
   ]
  },
  {
   "cell_type": "code",
   "execution_count": 42,
   "id": "0fe1e371",
   "metadata": {},
   "outputs": [],
   "source": [
    "model=ChatOllama(model='gemma3')"
   ]
  },
  {
   "cell_type": "code",
   "execution_count": 43,
   "id": "1a3df551",
   "metadata": {},
   "outputs": [],
   "source": [
    "class STATE(TypedDict):\n",
    "    ques:str\n",
    "    Ans:str"
   ]
  },
  {
   "cell_type": "code",
   "execution_count": 44,
   "id": "ebcf1d3e",
   "metadata": {},
   "outputs": [],
   "source": [
    "def call_LLM(state:STATE)->STATE:\n",
    "    ques=state['ques']\n",
    "    Prompt=f'Give me the answer for ques:{ques}'\n",
    "    result=model.invoke(Prompt).content\n",
    "    state['Ans']=result\n",
    "    return state   \n",
    "    \n"
   ]
  },
  {
   "cell_type": "code",
   "execution_count": 45,
   "id": "184b6d9d",
   "metadata": {},
   "outputs": [],
   "source": [
    "graph=StateGraph(STATE)\n",
    "graph.add_node('Give_Answer',call_LLM)\n",
    "\n",
    "graph.add_edge(START,'Give_Answer')\n",
    "graph.add_edge('Give_Answer',END)\n",
    "\n",
    "wf=graph.compile()"
   ]
  },
  {
   "cell_type": "code",
   "execution_count": 47,
   "id": "17c52cc9",
   "metadata": {},
   "outputs": [
    {
     "name": "stdout",
     "output_type": "stream",
     "text": [
      "{'ques': 'What is  capital of india?', 'Ans': 'The capital of India is **New Delhi**. \\n\\nDo you want to know anything else about New Delhi or India?'}\n"
     ]
    }
   ],
   "source": [
    "intial_state={'ques':'What is  capital of india?'}\n",
    "result=wf.invoke(intial_state)\n",
    "print(result)\n"
   ]
  },
  {
   "cell_type": "code",
   "execution_count": null,
   "id": "ab806fdd",
   "metadata": {},
   "outputs": [],
   "source": []
  }
 ],
 "metadata": {
  "kernelspec": {
   "display_name": "my_env",
   "language": "python",
   "name": "python3"
  },
  "language_info": {
   "codemirror_mode": {
    "name": "ipython",
    "version": 3
   },
   "file_extension": ".py",
   "mimetype": "text/x-python",
   "name": "python",
   "nbconvert_exporter": "python",
   "pygments_lexer": "ipython3",
   "version": "3.12.9"
  }
 },
 "nbformat": 4,
 "nbformat_minor": 5
}
