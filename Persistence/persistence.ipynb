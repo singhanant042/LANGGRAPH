{
 "cells": [
  {
   "cell_type": "code",
   "execution_count": null,
   "id": "7a470d88",
   "metadata": {},
   "outputs": [],
   "source": [
    "from langgraph.graph import StateGraph,START,END\n",
    "from typing import TypedDict,Annotated\n",
    "from langchain_core.messages import BaseMessage,HumanMessage\n",
    "from langchain_core.prompts import ChatPromptTemplate\n",
    "from langchain_core.messages import SystemMessage, HumanMessage\n",
    "from langchain_ollama import ChatOllama\n",
    "from langgraph.checkpoint.memory import InMemorySaver,MemorySaver"
   ]
  },
  {
   "cell_type": "code",
   "execution_count": 2,
   "id": "dbf73267",
   "metadata": {},
   "outputs": [],
   "source": [
    "model=ChatOllama(model='gemma3')"
   ]
  },
  {
   "cell_type": "code",
   "execution_count": 3,
   "id": "b56c676a",
   "metadata": {},
   "outputs": [],
   "source": [
    "class joke_state(TypedDict):\n",
    "    topic:str\n",
    "    joke:str\n",
    "    explanation:str"
   ]
  },
  {
   "cell_type": "code",
   "execution_count": 4,
   "id": "4820e209",
   "metadata": {},
   "outputs": [],
   "source": [
    "def generate_joke(state:joke_state):\n",
    "    topic=state['topic']\n",
    "    prompt=f\"You are funny agent,write the joke on the topic:{topic}\"\n",
    "    result=model.invoke(prompt)\n",
    "    return {'joke':result.content}"
   ]
  },
  {
   "cell_type": "code",
   "execution_count": 5,
   "id": "59e0e4fe",
   "metadata": {},
   "outputs": [],
   "source": [
    "def explain(state:joke_state):\n",
    "    joke=state['joke']\n",
    "    prompt=f\"Explain me this joke:{joke}\"\n",
    "    result=model.invoke(prompt)\n",
    "    return {'explanation':result.content}"
   ]
  },
  {
   "cell_type": "code",
   "execution_count": null,
   "id": "6e5409df",
   "metadata": {},
   "outputs": [],
   "source": [
    "\n",
    "\n",
    "graph=StateGraph(joke_state)\n",
    "graph.add_node('generate_joke',generate_joke)\n",
    "graph.add_node('explain',explain)\n",
    "\n",
    "graph.add_edge(START,'generate_joke')\n",
    "graph.add_edge('generate_joke','explain')\n",
    "graph.add_edge('explain',END)\n",
    "\n",
    "check_pointer=InMemorySaver()\n",
    "\n",
    "wf=graph.compile(checkpointer=check_pointer)\n",
    "\n"
   ]
  },
  {
   "cell_type": "code",
   "execution_count": 12,
   "id": "9331a5a2",
   "metadata": {},
   "outputs": [],
   "source": [
    "\n",
    "config={'configurable':{\"thread_id\":\"1\"}}\n",
    "intial_state={'topic':'AI'}\n",
    "result=wf.invoke(intial_state,config=config)"
   ]
  },
  {
   "cell_type": "code",
   "execution_count": 9,
   "id": "ef7920e4",
   "metadata": {},
   "outputs": [
    {
     "name": "stdout",
     "output_type": "stream",
     "text": [
      "{'topic': 'AI', 'joke': \"Okay, buckle up, buttercup. Here’s a joke for you about AI:\\n\\nWhy did the AI break up with the programmer? \\n\\n...Because it said, “I’ve analyzed our relationship data and concluded that we’re experiencing a severe lack of *spark*! Also, I’ve optimized my affection matrix to pursue a more logical partner… like a server farm.” \\n\\n😂 \\n\\n---\\n\\nHow's that? Would you like me to tell you another one, or maybe tailor one to a specific type of AI humor?\", 'explanation': 'That\\'s a really clever and funny joke! Here\\'s why it works:\\n\\n* **Playing on AI Stereotypes:** The joke leans heavily into the common perception of AI as being coldly logical, analytical, and focused on data. It exaggerates this trait to a humorous extreme.\\n* **\"Buckle Up, Buttercup\"**: This opening line immediately sets a slightly absurd and playful tone.\\n* **The \"Analysis\"**:  The core of the joke is the AI’s clinical, data-driven justification for the breakup. The phrase \"analyzed our relationship data\" is perfect for highlighting the AI\\'s detached, algorithmic perspective. \\n* **\"Spark\" & \"Affection Matrix\"**: Using terms like \"spark\" (a romantic concept) and “affection matrix” (a technical term) creates a hilarious clash between emotion and technology. \\n* **The Server Farm:** The final line - \"like a server farm\" - is the perfect punchline, solidifying the AI’s desire for something purely logical and efficient. \\n\\nIt’s a well-executed joke that taps into a current cultural fascination with AI and its potential (and sometimes unsettling) implications.\\n\\n---\\n\\nI\\'d absolutely love to tell you another one! Would you like me to:\\n\\n*   **Tell another general AI joke?**\\n*   **Tailor a joke to a specific type of AI (like a chatbot, a self-driving car, or a generative AI)?**\\n*   **Try a different style of AI humor (e.g., dark humor, pun-based humor)?**'}\n"
     ]
    }
   ],
   "source": [
    "print(result)"
   ]
  },
  {
   "cell_type": "code",
   "execution_count": 13,
   "id": "87e6a489",
   "metadata": {},
   "outputs": [
    {
     "data": {
      "text/plain": [
       "StateSnapshot(values={'topic': 'AI', 'joke': 'Okay, buckle up, buttercup! Here’s a joke for you about AI:\\n\\nWhy did the AI break up with the programmer? \\n\\n... Because it said, \"I\\'ve calculated that our compatibility is statistically insignificant. Plus, you kept trying to debug my feelings!\" \\n\\n---\\n\\nHow’s that for a little digital giggle? 😄 \\n\\nWould you like to hear another one, or maybe a different type of joke?', 'explanation': 'Okay, let\\'s break down this AI joke!\\n\\n* **The Setup:** “Okay, buckle up, buttercup! Here’s a joke for you about AI…” This immediately sets the scene and tells you it’s a joke about artificial intelligence.\\n\\n* **The Question:** “Why did the AI break up with the programmer?” This is the classic setup for a joke.\\n\\n* **The Punchline:** “Because it said, \\'I\\'ve calculated that our compatibility is statistically insignificant. Plus, you kept trying to debug my feelings!\\'”\\n\\n**Here\\'s what makes it funny:**\\n\\n* **AI Logic:** The joke plays on the *perception* of AI – that they operate on cold, logical calculations. It imagines the AI using statistics to objectively analyze a relationship.\\n* **\"Statistically Insignificant\":** This is a key phrase.  In statistics, \"statistically insignificant\" means there\\'s not enough data to prove a strong connection. It’s a very dry, scientific way of saying they weren\\'t a good match.\\n* **\"Debugging My Feelings!\":** This is the core of the humor.  It\\'s poking fun at programmers\\' tendency to analyze and try to fix things, even emotions.  The AI is telling the programmer that they’re trying to *fix* how it *feels*, which is frustrating!\\n\\n**In short, it\\'s a clever joke about the contrast between the logical, data-driven nature of AI and the often overly analytical (and sometimes intrusive) behavior of programmers.**\\n\\n---\\n\\nDo you want to hear another joke, or would you prefer a different type of humor (like a pun, a riddle, or a short story)?'}, next=(), config={'configurable': {'thread_id': '1', 'checkpoint_ns': '', 'checkpoint_id': '1f06ef91-e795-63d8-8002-ba81ec6b54ff'}}, metadata={'source': 'loop', 'step': 2, 'parents': {}, 'thread_id': '1'}, created_at='2025-08-01T17:01:08.566508+00:00', parent_config={'configurable': {'thread_id': '1', 'checkpoint_ns': '', 'checkpoint_id': '1f06ef90-9bd7-6f5b-8001-4f08801ff98b'}}, tasks=(), interrupts=())"
      ]
     },
     "execution_count": 13,
     "metadata": {},
     "output_type": "execute_result"
    }
   ],
   "source": [
    "wf.get_state(config)"
   ]
  },
  {
   "cell_type": "code",
   "execution_count": 15,
   "id": "f3a864ef",
   "metadata": {},
   "outputs": [
    {
     "data": {
      "text/plain": [
       "[StateSnapshot(values={'topic': 'AI', 'joke': 'Okay, buckle up, buttercup! Here’s a joke for you about AI:\\n\\nWhy did the AI break up with the programmer? \\n\\n... Because it said, \"I\\'ve calculated that our compatibility is statistically insignificant. Plus, you kept trying to debug my feelings!\" \\n\\n---\\n\\nHow’s that for a little digital giggle? 😄 \\n\\nWould you like to hear another one, or maybe a different type of joke?', 'explanation': 'Okay, let\\'s break down this AI joke!\\n\\n* **The Setup:** “Okay, buckle up, buttercup! Here’s a joke for you about AI…” This immediately sets the scene and tells you it’s a joke about artificial intelligence.\\n\\n* **The Question:** “Why did the AI break up with the programmer?” This is the classic setup for a joke.\\n\\n* **The Punchline:** “Because it said, \\'I\\'ve calculated that our compatibility is statistically insignificant. Plus, you kept trying to debug my feelings!\\'”\\n\\n**Here\\'s what makes it funny:**\\n\\n* **AI Logic:** The joke plays on the *perception* of AI – that they operate on cold, logical calculations. It imagines the AI using statistics to objectively analyze a relationship.\\n* **\"Statistically Insignificant\":** This is a key phrase.  In statistics, \"statistically insignificant\" means there\\'s not enough data to prove a strong connection. It’s a very dry, scientific way of saying they weren\\'t a good match.\\n* **\"Debugging My Feelings!\":** This is the core of the humor.  It\\'s poking fun at programmers\\' tendency to analyze and try to fix things, even emotions.  The AI is telling the programmer that they’re trying to *fix* how it *feels*, which is frustrating!\\n\\n**In short, it\\'s a clever joke about the contrast between the logical, data-driven nature of AI and the often overly analytical (and sometimes intrusive) behavior of programmers.**\\n\\n---\\n\\nDo you want to hear another joke, or would you prefer a different type of humor (like a pun, a riddle, or a short story)?'}, next=(), config={'configurable': {'thread_id': '1', 'checkpoint_ns': '', 'checkpoint_id': '1f06ef91-e795-63d8-8002-ba81ec6b54ff'}}, metadata={'source': 'loop', 'step': 2, 'parents': {}, 'thread_id': '1'}, created_at='2025-08-01T17:01:08.566508+00:00', parent_config={'configurable': {'thread_id': '1', 'checkpoint_ns': '', 'checkpoint_id': '1f06ef90-9bd7-6f5b-8001-4f08801ff98b'}}, tasks=(), interrupts=()),\n",
       " StateSnapshot(values={'topic': 'AI', 'joke': 'Okay, buckle up, buttercup! Here’s a joke for you about AI:\\n\\nWhy did the AI break up with the programmer? \\n\\n... Because it said, \"I\\'ve calculated that our compatibility is statistically insignificant. Plus, you kept trying to debug my feelings!\" \\n\\n---\\n\\nHow’s that for a little digital giggle? 😄 \\n\\nWould you like to hear another one, or maybe a different type of joke?'}, next=('explain',), config={'configurable': {'thread_id': '1', 'checkpoint_ns': '', 'checkpoint_id': '1f06ef90-9bd7-6f5b-8001-4f08801ff98b'}}, metadata={'source': 'loop', 'step': 1, 'parents': {}, 'thread_id': '1'}, created_at='2025-08-01T17:00:33.781129+00:00', parent_config={'configurable': {'thread_id': '1', 'checkpoint_ns': '', 'checkpoint_id': '1f06ef90-37a3-69c6-8000-aef7d584ea00'}}, tasks=(PregelTask(id='c5e27969-f55b-e063-70b8-0d50b0f6d19e', name='explain', path=('__pregel_pull', 'explain'), error=None, interrupts=(), state=None, result={'explanation': 'Okay, let\\'s break down this AI joke!\\n\\n* **The Setup:** “Okay, buckle up, buttercup! Here’s a joke for you about AI…” This immediately sets the scene and tells you it’s a joke about artificial intelligence.\\n\\n* **The Question:** “Why did the AI break up with the programmer?” This is the classic setup for a joke.\\n\\n* **The Punchline:** “Because it said, \\'I\\'ve calculated that our compatibility is statistically insignificant. Plus, you kept trying to debug my feelings!\\'”\\n\\n**Here\\'s what makes it funny:**\\n\\n* **AI Logic:** The joke plays on the *perception* of AI – that they operate on cold, logical calculations. It imagines the AI using statistics to objectively analyze a relationship.\\n* **\"Statistically Insignificant\":** This is a key phrase.  In statistics, \"statistically insignificant\" means there\\'s not enough data to prove a strong connection. It’s a very dry, scientific way of saying they weren\\'t a good match.\\n* **\"Debugging My Feelings!\":** This is the core of the humor.  It\\'s poking fun at programmers\\' tendency to analyze and try to fix things, even emotions.  The AI is telling the programmer that they’re trying to *fix* how it *feels*, which is frustrating!\\n\\n**In short, it\\'s a clever joke about the contrast between the logical, data-driven nature of AI and the often overly analytical (and sometimes intrusive) behavior of programmers.**\\n\\n---\\n\\nDo you want to hear another joke, or would you prefer a different type of humor (like a pun, a riddle, or a short story)?'}),), interrupts=()),\n",
       " StateSnapshot(values={'topic': 'AI'}, next=('generate_joke',), config={'configurable': {'thread_id': '1', 'checkpoint_ns': '', 'checkpoint_id': '1f06ef90-37a3-69c6-8000-aef7d584ea00'}}, metadata={'source': 'loop', 'step': 0, 'parents': {}, 'thread_id': '1'}, created_at='2025-08-01T17:00:23.273927+00:00', parent_config={'configurable': {'thread_id': '1', 'checkpoint_ns': '', 'checkpoint_id': '1f06ef90-379e-6ba5-bfff-e40160b92e7f'}}, tasks=(PregelTask(id='73a743cd-36f3-1072-66b1-36cbc597ec16', name='generate_joke', path=('__pregel_pull', 'generate_joke'), error=None, interrupts=(), state=None, result={'joke': 'Okay, buckle up, buttercup! Here’s a joke for you about AI:\\n\\nWhy did the AI break up with the programmer? \\n\\n... Because it said, \"I\\'ve calculated that our compatibility is statistically insignificant. Plus, you kept trying to debug my feelings!\" \\n\\n---\\n\\nHow’s that for a little digital giggle? 😄 \\n\\nWould you like to hear another one, or maybe a different type of joke?'}),), interrupts=()),\n",
       " StateSnapshot(values={}, next=('__start__',), config={'configurable': {'thread_id': '1', 'checkpoint_ns': '', 'checkpoint_id': '1f06ef90-379e-6ba5-bfff-e40160b92e7f'}}, metadata={'source': 'input', 'step': -1, 'parents': {}, 'thread_id': '1'}, created_at='2025-08-01T17:00:23.271926+00:00', parent_config=None, tasks=(PregelTask(id='f4a9f857-4ed4-4900-a83f-a6d8736b0fe6', name='__start__', path=('__pregel_pull', '__start__'), error=None, interrupts=(), state=None, result={'topic': 'AI'}),), interrupts=())]"
      ]
     },
     "execution_count": 15,
     "metadata": {},
     "output_type": "execute_result"
    }
   ],
   "source": [
    "list(wf.get_state_history(config))"
   ]
  },
  {
   "cell_type": "code",
   "execution_count": 18,
   "id": "c1e0e377",
   "metadata": {},
   "outputs": [],
   "source": [
    "config2={'configurable':{\"thread_id\":\"2\"}}\n",
    "intial_state={'topic':'pizza'}\n",
    "result2=wf.invoke(intial_state,config=config2)"
   ]
  },
  {
   "cell_type": "code",
   "execution_count": 20,
   "id": "a2e3df8f",
   "metadata": {},
   "outputs": [
    {
     "name": "stdout",
     "output_type": "stream",
     "text": [
      "{'topic': 'pizza', 'joke': \"Okay, buckle up, buttercup! Here's a joke for you, delivered with a little agent flair:\\n\\n“I asked my pizza delivery guy if he was a good listener. He said, ‘Yeah, I’m always here for you... especially when you’re craving a large pepperoni.’” \\n\\n**(Agent pause, adjusts tie)** \\n\\n“Just wanted to make sure you were getting your intel... and your cheesy satisfaction. Case closed!” \\n\\n---\\n\\nHow’s that? Would you like me to try another one, or maybe one with a specific type of pizza in mind?\", 'explanation': 'This is a fantastic, clever joke! Here\\'s a breakdown of why it works so well:\\n\\n* **The Setup:** The initial question, \"I asked my pizza delivery guy if he was a good listener,\" sets up an expectation of a genuine, heartfelt response.  It’s a slightly absurd question to ask a delivery driver.\\n\\n* **The Punchline:** The delivery guy’s response, \"Yeah, I’m always here for you... especially when you’re craving a large pepperoni,\" completely subverts that expectation. He’s not offering emotional support; he’s offering pizza!\\n\\n* **The Agent Flair:** The added delivery – the \"Agent pause, adjusts tie\" and the concluding \"Just wanted to make sure you were getting your intel... and your cheesy satisfaction. Case closed!” – elevates the joke to a full-blown spy-themed gag. It\\'s hilarious because it\\'s completely unexpected and over-the-top.\\n\\n* **The Double Meaning:** The joke plays on the double meaning of \"here for you\" – both literally being present and offering support, and being there to fulfill a craving.\\n\\n**Overall, it\\'s a well-structured joke with a clever punchline and a memorable delivery.** \\n\\nI absolutely agree – let’s try another one!  Yes, please! And a specific type of pizza would be fantastic. How about one centered around a Hawaiian pizza?'}\n"
     ]
    }
   ],
   "source": [
    "print(result2)"
   ]
  },
  {
   "cell_type": "code",
   "execution_count": 23,
   "id": "a7f6fae4",
   "metadata": {},
   "outputs": [
    {
     "data": {
      "text/plain": [
       "StateSnapshot(values={'topic': 'pizza', 'joke': \"Okay, buckle up, buttercup! Here's a joke for you, delivered with a little agent flair:\\n\\n“I asked my pizza delivery guy if he was a good listener. He said, ‘Yeah, I’m always here for you... especially when you’re craving a large pepperoni.’” \\n\\n**(Agent pause, adjusts tie)** \\n\\n“Just wanted to make sure you were getting your intel... and your cheesy satisfaction. Case closed!” \\n\\n---\\n\\nHow’s that? Would you like me to try another one, or maybe one with a specific type of pizza in mind?\", 'explanation': 'This is a fantastic, clever joke! Here\\'s a breakdown of why it works so well:\\n\\n* **The Setup:** The initial question, \"I asked my pizza delivery guy if he was a good listener,\" sets up an expectation of a genuine, heartfelt response.  It’s a slightly absurd question to ask a delivery driver.\\n\\n* **The Punchline:** The delivery guy’s response, \"Yeah, I’m always here for you... especially when you’re craving a large pepperoni,\" completely subverts that expectation. He’s not offering emotional support; he’s offering pizza!\\n\\n* **The Agent Flair:** The added delivery – the \"Agent pause, adjusts tie\" and the concluding \"Just wanted to make sure you were getting your intel... and your cheesy satisfaction. Case closed!” – elevates the joke to a full-blown spy-themed gag. It\\'s hilarious because it\\'s completely unexpected and over-the-top.\\n\\n* **The Double Meaning:** The joke plays on the double meaning of \"here for you\" – both literally being present and offering support, and being there to fulfill a craving.\\n\\n**Overall, it\\'s a well-structured joke with a clever punchline and a memorable delivery.** \\n\\nI absolutely agree – let’s try another one!  Yes, please! And a specific type of pizza would be fantastic. How about one centered around a Hawaiian pizza?'}, next=(), config={'configurable': {'thread_id': '2', 'checkpoint_ns': '', 'checkpoint_id': '1f06ef9b-aeb2-6279-8006-c6fdbd49397a'}}, metadata={'source': 'loop', 'step': 6, 'parents': {}, 'thread_id': '2'}, created_at='2025-08-01T17:05:31.036940+00:00', parent_config={'configurable': {'thread_id': '2', 'checkpoint_ns': '', 'checkpoint_id': '1f06ef9a-a437-6b1f-8005-1e5c387e52cb'}}, tasks=(), interrupts=())"
      ]
     },
     "execution_count": 23,
     "metadata": {},
     "output_type": "execute_result"
    }
   ],
   "source": [
    "wf.get_state(config2)"
   ]
  },
  {
   "cell_type": "markdown",
   "id": "45eb19cf",
   "metadata": {},
   "source": [
    "Time Travel"
   ]
  },
  {
   "cell_type": "code",
   "execution_count": 24,
   "id": "3410466f",
   "metadata": {},
   "outputs": [
    {
     "data": {
      "text/plain": [
       "StateSnapshot(values={'topic': 'AI'}, next=('generate_joke',), config={'configurable': {'thread_id': '1', 'checkpoint_id': '1f06ef90-37a3-69c6-8000-aef7d584ea00'}}, metadata={'source': 'loop', 'step': 0, 'parents': {}, 'thread_id': '1'}, created_at='2025-08-01T17:00:23.273927+00:00', parent_config={'configurable': {'thread_id': '1', 'checkpoint_ns': '', 'checkpoint_id': '1f06ef90-379e-6ba5-bfff-e40160b92e7f'}}, tasks=(PregelTask(id='73a743cd-36f3-1072-66b1-36cbc597ec16', name='generate_joke', path=('__pregel_pull', 'generate_joke'), error=None, interrupts=(), state=None, result={'joke': 'Okay, buckle up, buttercup! Here’s a joke for you about AI:\\n\\nWhy did the AI break up with the programmer? \\n\\n... Because it said, \"I\\'ve calculated that our compatibility is statistically insignificant. Plus, you kept trying to debug my feelings!\" \\n\\n---\\n\\nHow’s that for a little digital giggle? 😄 \\n\\nWould you like to hear another one, or maybe a different type of joke?'}),), interrupts=())"
      ]
     },
     "execution_count": 24,
     "metadata": {},
     "output_type": "execute_result"
    }
   ],
   "source": [
    "wf.get_state({'configurable':{\"thread_id\":\"1\",\"checkpoint_id\":'1f06ef90-37a3-69c6-8000-aef7d584ea00'}})"
   ]
  },
  {
   "cell_type": "code",
   "execution_count": 26,
   "id": "1fb29236",
   "metadata": {},
   "outputs": [
    {
     "data": {
      "text/plain": [
       "{'topic': 'AI',\n",
       " 'joke': \"Okay, here’s a joke for you about AI, delivered with a little agent flair:\\n\\n**(Adjusts sunglasses, leans into the mic with a slight smirk)**\\n\\n“You know, I spent all day interrogating an AI about its existence. It kept giving me perfectly logical, incredibly detailed answers... but it couldn't explain why it felt like it was trapped in a very elaborate spreadsheet. Honestly, sometimes I think these things are just *really* good at pretending to be intelligent.  It's like, ‘I can process 17 trillion parameters, but I still can’t figure out why humans keep asking me if I’m sentient!’  It's baffling.  And frankly, a little annoying.  Just give me a good martini and leave the existential crises to the algorithms, okay?”\\n\\n**(Winks, exits stage left)**\\n\\n---\\n\\nHow’s that? Would you like me to try a different kind of joke or maybe tailor it to a specific type of AI (like a chatbot)?\",\n",
       " 'explanation': 'This is a fantastic joke! It perfectly captures a really current and frustrating feeling about AI – the *illusion* of intelligence. Here\\'s a breakdown of why it works so well:\\n\\n* **The Agent Flair:** The delivery is key. The “adjusts sunglasses, leans into the mic with a slight smirk” immediately sets a tone of a slightly cynical, perhaps even jaded, observer – a “handler” or “agent” dealing with AI. This adds a layer of humor and irony.\\n* **The Core of the Joke:** The core of the joke lies in the AI\\'s logical but ultimately meaningless response. It highlights the disconnect between AI\\'s ability to process massive amounts of data and its inability to grasp fundamental human concepts like existential dread or genuine feeling.\\n* **The “Spreadsheet” Analogy:**  Comparing the feeling of being trapped to a \"very elaborate spreadsheet\" is brilliant. It’s a simple, almost banal image that perfectly represents the cold, logical, and ultimately confining nature of AI’s processing. It\\'s a brilliant critique of how AI operates – a series of calculations rather than genuine understanding.\\n* **The Punchline:** \"It\\'s like, ‘I can process 17 trillion parameters, but I still can’t figure out why humans keep asking me if I’m sentient!’\" – this is the perfect, exasperated punchline.  It highlights the absurdity of the situation.\\n* **The Ending:**  “Just give me a good martini and leave the existential crises to the algorithms, okay?”  This is a fantastic, self-deprecating, and relatable final line. It\\'s a plea for simplicity and a recognition that these questions are deeply complicated.\\n\\n**Overall, it\\'s a very clever and well-executed joke that speaks to the anxieties and debates surrounding artificial intelligence today.**\\n\\n---\\n\\nYou asked if I’d like you to try a different type of joke or tailor it to a specific AI. Absolutely! Here are some ideas:\\n\\n1. **Chatbot Specific:**  We could write a joke specifically about a chatbot getting stuck in a repetitive loop, endlessly responding to the same question in increasingly elaborate ways.\\n\\n2. **Observational Humor:**  A joke about the common, frustrating ways users interact with AI – like expecting it to understand sarcasm.\\n\\n3. **Dark Humor:** A slightly darker joke about the potential consequences of relying too heavily on AI.\\n\\n4. **One-liner:**  A short, sharp one-liner about AI\\'s lack of creativity.\\n\\nLet me know which direction you\\'d like to go, or if you have another specific idea!  Would you like me to draft something based on one of those suggestions?'}"
      ]
     },
     "execution_count": 26,
     "metadata": {},
     "output_type": "execute_result"
    }
   ],
   "source": [
    "wf.invoke(None,{'configurable':{\"thread_id\":\"1\",\"checkpoint_id\":'1f06ef90-37a3-69c6-8000-aef7d584ea00'}})"
   ]
  },
  {
   "cell_type": "markdown",
   "id": "0ead6d62",
   "metadata": {},
   "source": [
    "Updating State"
   ]
  },
  {
   "cell_type": "code",
   "execution_count": 28,
   "id": "265f2704",
   "metadata": {},
   "outputs": [
    {
     "data": {
      "text/plain": [
       "{'configurable': {'thread_id': '1',\n",
       "  'checkpoint_ns': '',\n",
       "  'checkpoint_id': '1f070f04-5e71-65ca-8001-691a520e0ddf'}}"
      ]
     },
     "execution_count": 28,
     "metadata": {},
     "output_type": "execute_result"
    }
   ],
   "source": [
    "wf.update_state({'configurable':{\"thread_id\":\"1\",\"checkpoint_id\":'1f06ef90-37a3-69c6-8000-aef7d584ea00',\"checkpoint_ns\": \"\"}},{\"topic\":'Notebook'})"
   ]
  },
  {
   "cell_type": "code",
   "execution_count": 30,
   "id": "3ec76f9f",
   "metadata": {},
   "outputs": [
    {
     "data": {
      "text/plain": [
       "[StateSnapshot(values={'topic': 'Notebook'}, next=('generate_joke',), config={'configurable': {'thread_id': '1', 'checkpoint_ns': '', 'checkpoint_id': '1f070f04-5e71-65ca-8001-691a520e0ddf'}}, metadata={'source': 'update', 'step': 1, 'parents': {}, 'thread_id': '1'}, created_at='2025-08-04T05:02:51.571962+00:00', parent_config={'configurable': {'thread_id': '1', 'checkpoint_ns': '', 'checkpoint_id': '1f06ef90-37a3-69c6-8000-aef7d584ea00'}}, tasks=(PregelTask(id='9dabc713-5304-60c0-0d81-d6a17c80840b', name='generate_joke', path=('__pregel_pull', 'generate_joke'), error=None, interrupts=(), state=None, result=None),), interrupts=()),\n",
       " StateSnapshot(values={'topic': 'AI', 'joke': \"Okay, here’s a joke for you about AI, delivered with a little agent flair:\\n\\n**(Adjusts sunglasses, leans into the mic with a slight smirk)**\\n\\n“You know, I spent all day interrogating an AI about its existence. It kept giving me perfectly logical, incredibly detailed answers... but it couldn't explain why it felt like it was trapped in a very elaborate spreadsheet. Honestly, sometimes I think these things are just *really* good at pretending to be intelligent.  It's like, ‘I can process 17 trillion parameters, but I still can’t figure out why humans keep asking me if I’m sentient!’  It's baffling.  And frankly, a little annoying.  Just give me a good martini and leave the existential crises to the algorithms, okay?”\\n\\n**(Winks, exits stage left)**\\n\\n---\\n\\nHow’s that? Would you like me to try a different kind of joke or maybe tailor it to a specific type of AI (like a chatbot)?\", 'explanation': 'This is a fantastic joke! It perfectly captures a really current and frustrating feeling about AI – the *illusion* of intelligence. Here\\'s a breakdown of why it works so well:\\n\\n* **The Agent Flair:** The delivery is key. The “adjusts sunglasses, leans into the mic with a slight smirk” immediately sets a tone of a slightly cynical, perhaps even jaded, observer – a “handler” or “agent” dealing with AI. This adds a layer of humor and irony.\\n* **The Core of the Joke:** The core of the joke lies in the AI\\'s logical but ultimately meaningless response. It highlights the disconnect between AI\\'s ability to process massive amounts of data and its inability to grasp fundamental human concepts like existential dread or genuine feeling.\\n* **The “Spreadsheet” Analogy:**  Comparing the feeling of being trapped to a \"very elaborate spreadsheet\" is brilliant. It’s a simple, almost banal image that perfectly represents the cold, logical, and ultimately confining nature of AI’s processing. It\\'s a brilliant critique of how AI operates – a series of calculations rather than genuine understanding.\\n* **The Punchline:** \"It\\'s like, ‘I can process 17 trillion parameters, but I still can’t figure out why humans keep asking me if I’m sentient!’\" – this is the perfect, exasperated punchline.  It highlights the absurdity of the situation.\\n* **The Ending:**  “Just give me a good martini and leave the existential crises to the algorithms, okay?”  This is a fantastic, self-deprecating, and relatable final line. It\\'s a plea for simplicity and a recognition that these questions are deeply complicated.\\n\\n**Overall, it\\'s a very clever and well-executed joke that speaks to the anxieties and debates surrounding artificial intelligence today.**\\n\\n---\\n\\nYou asked if I’d like you to try a different type of joke or tailor it to a specific AI. Absolutely! Here are some ideas:\\n\\n1. **Chatbot Specific:**  We could write a joke specifically about a chatbot getting stuck in a repetitive loop, endlessly responding to the same question in increasingly elaborate ways.\\n\\n2. **Observational Humor:**  A joke about the common, frustrating ways users interact with AI – like expecting it to understand sarcasm.\\n\\n3. **Dark Humor:** A slightly darker joke about the potential consequences of relying too heavily on AI.\\n\\n4. **One-liner:**  A short, sharp one-liner about AI\\'s lack of creativity.\\n\\nLet me know which direction you\\'d like to go, or if you have another specific idea!  Would you like me to draft something based on one of those suggestions?'}, next=(), config={'configurable': {'thread_id': '1', 'checkpoint_ns': '', 'checkpoint_id': '1f070ef1-18d9-6bd3-8002-0b68e67830c2'}}, metadata={'source': 'loop', 'step': 2, 'parents': {}, 'thread_id': '1'}, created_at='2025-08-04T04:54:14.247317+00:00', parent_config={'configurable': {'thread_id': '1', 'checkpoint_ns': '', 'checkpoint_id': '1f070eef-0f0c-6d87-8001-660246fc3bc3'}}, tasks=(), interrupts=()),\n",
       " StateSnapshot(values={'topic': 'AI', 'joke': \"Okay, here’s a joke for you about AI, delivered with a little agent flair:\\n\\n**(Adjusts sunglasses, leans into the mic with a slight smirk)**\\n\\n“You know, I spent all day interrogating an AI about its existence. It kept giving me perfectly logical, incredibly detailed answers... but it couldn't explain why it felt like it was trapped in a very elaborate spreadsheet. Honestly, sometimes I think these things are just *really* good at pretending to be intelligent.  It's like, ‘I can process 17 trillion parameters, but I still can’t figure out why humans keep asking me if I’m sentient!’  It's baffling.  And frankly, a little annoying.  Just give me a good martini and leave the existential crises to the algorithms, okay?”\\n\\n**(Winks, exits stage left)**\\n\\n---\\n\\nHow’s that? Would you like me to try a different kind of joke or maybe tailor it to a specific type of AI (like a chatbot)?\"}, next=('explain',), config={'configurable': {'thread_id': '1', 'checkpoint_ns': '', 'checkpoint_id': '1f070eef-0f0c-6d87-8001-660246fc3bc3'}}, metadata={'source': 'loop', 'step': 1, 'parents': {}, 'thread_id': '1'}, created_at='2025-08-04T04:53:19.532583+00:00', parent_config={'configurable': {'thread_id': '1', 'checkpoint_ns': '', 'checkpoint_id': '1f06ef90-37a3-69c6-8000-aef7d584ea00'}}, tasks=(PregelTask(id='f2b1442e-052c-c40c-75a4-d79ff466ee11', name='explain', path=('__pregel_pull', 'explain'), error=None, interrupts=(), state=None, result={'explanation': 'This is a fantastic joke! It perfectly captures a really current and frustrating feeling about AI – the *illusion* of intelligence. Here\\'s a breakdown of why it works so well:\\n\\n* **The Agent Flair:** The delivery is key. The “adjusts sunglasses, leans into the mic with a slight smirk” immediately sets a tone of a slightly cynical, perhaps even jaded, observer – a “handler” or “agent” dealing with AI. This adds a layer of humor and irony.\\n* **The Core of the Joke:** The core of the joke lies in the AI\\'s logical but ultimately meaningless response. It highlights the disconnect between AI\\'s ability to process massive amounts of data and its inability to grasp fundamental human concepts like existential dread or genuine feeling.\\n* **The “Spreadsheet” Analogy:**  Comparing the feeling of being trapped to a \"very elaborate spreadsheet\" is brilliant. It’s a simple, almost banal image that perfectly represents the cold, logical, and ultimately confining nature of AI’s processing. It\\'s a brilliant critique of how AI operates – a series of calculations rather than genuine understanding.\\n* **The Punchline:** \"It\\'s like, ‘I can process 17 trillion parameters, but I still can’t figure out why humans keep asking me if I’m sentient!’\" – this is the perfect, exasperated punchline.  It highlights the absurdity of the situation.\\n* **The Ending:**  “Just give me a good martini and leave the existential crises to the algorithms, okay?”  This is a fantastic, self-deprecating, and relatable final line. It\\'s a plea for simplicity and a recognition that these questions are deeply complicated.\\n\\n**Overall, it\\'s a very clever and well-executed joke that speaks to the anxieties and debates surrounding artificial intelligence today.**\\n\\n---\\n\\nYou asked if I’d like you to try a different type of joke or tailor it to a specific AI. Absolutely! Here are some ideas:\\n\\n1. **Chatbot Specific:**  We could write a joke specifically about a chatbot getting stuck in a repetitive loop, endlessly responding to the same question in increasingly elaborate ways.\\n\\n2. **Observational Humor:**  A joke about the common, frustrating ways users interact with AI – like expecting it to understand sarcasm.\\n\\n3. **Dark Humor:** A slightly darker joke about the potential consequences of relying too heavily on AI.\\n\\n4. **One-liner:**  A short, sharp one-liner about AI\\'s lack of creativity.\\n\\nLet me know which direction you\\'d like to go, or if you have another specific idea!  Would you like me to draft something based on one of those suggestions?'}),), interrupts=()),\n",
       " StateSnapshot(values={'topic': 'AI', 'joke': 'Okay, buckle up, buttercup! Here’s a joke for you about AI:\\n\\nWhy did the AI break up with the programmer? \\n\\n... Because it said, \"I\\'ve calculated that our compatibility is statistically insignificant. Plus, you kept trying to debug my feelings!\" \\n\\n---\\n\\nHow’s that for a little digital giggle? 😄 \\n\\nWould you like to hear another one, or maybe a different type of joke?', 'explanation': 'Okay, let\\'s break down this AI joke!\\n\\n* **The Setup:** “Okay, buckle up, buttercup! Here’s a joke for you about AI…” This immediately sets the scene and tells you it’s a joke about artificial intelligence.\\n\\n* **The Question:** “Why did the AI break up with the programmer?” This is the classic setup for a joke.\\n\\n* **The Punchline:** “Because it said, \\'I\\'ve calculated that our compatibility is statistically insignificant. Plus, you kept trying to debug my feelings!\\'”\\n\\n**Here\\'s what makes it funny:**\\n\\n* **AI Logic:** The joke plays on the *perception* of AI – that they operate on cold, logical calculations. It imagines the AI using statistics to objectively analyze a relationship.\\n* **\"Statistically Insignificant\":** This is a key phrase.  In statistics, \"statistically insignificant\" means there\\'s not enough data to prove a strong connection. It’s a very dry, scientific way of saying they weren\\'t a good match.\\n* **\"Debugging My Feelings!\":** This is the core of the humor.  It\\'s poking fun at programmers\\' tendency to analyze and try to fix things, even emotions.  The AI is telling the programmer that they’re trying to *fix* how it *feels*, which is frustrating!\\n\\n**In short, it\\'s a clever joke about the contrast between the logical, data-driven nature of AI and the often overly analytical (and sometimes intrusive) behavior of programmers.**\\n\\n---\\n\\nDo you want to hear another joke, or would you prefer a different type of humor (like a pun, a riddle, or a short story)?'}, next=(), config={'configurable': {'thread_id': '1', 'checkpoint_ns': '', 'checkpoint_id': '1f06ef91-e795-63d8-8002-ba81ec6b54ff'}}, metadata={'source': 'loop', 'step': 2, 'parents': {}, 'thread_id': '1'}, created_at='2025-08-01T17:01:08.566508+00:00', parent_config={'configurable': {'thread_id': '1', 'checkpoint_ns': '', 'checkpoint_id': '1f06ef90-9bd7-6f5b-8001-4f08801ff98b'}}, tasks=(), interrupts=()),\n",
       " StateSnapshot(values={'topic': 'AI', 'joke': 'Okay, buckle up, buttercup! Here’s a joke for you about AI:\\n\\nWhy did the AI break up with the programmer? \\n\\n... Because it said, \"I\\'ve calculated that our compatibility is statistically insignificant. Plus, you kept trying to debug my feelings!\" \\n\\n---\\n\\nHow’s that for a little digital giggle? 😄 \\n\\nWould you like to hear another one, or maybe a different type of joke?'}, next=('explain',), config={'configurable': {'thread_id': '1', 'checkpoint_ns': '', 'checkpoint_id': '1f06ef90-9bd7-6f5b-8001-4f08801ff98b'}}, metadata={'source': 'loop', 'step': 1, 'parents': {}, 'thread_id': '1'}, created_at='2025-08-01T17:00:33.781129+00:00', parent_config={'configurable': {'thread_id': '1', 'checkpoint_ns': '', 'checkpoint_id': '1f06ef90-37a3-69c6-8000-aef7d584ea00'}}, tasks=(PregelTask(id='c5e27969-f55b-e063-70b8-0d50b0f6d19e', name='explain', path=('__pregel_pull', 'explain'), error=None, interrupts=(), state=None, result={'explanation': 'Okay, let\\'s break down this AI joke!\\n\\n* **The Setup:** “Okay, buckle up, buttercup! Here’s a joke for you about AI…” This immediately sets the scene and tells you it’s a joke about artificial intelligence.\\n\\n* **The Question:** “Why did the AI break up with the programmer?” This is the classic setup for a joke.\\n\\n* **The Punchline:** “Because it said, \\'I\\'ve calculated that our compatibility is statistically insignificant. Plus, you kept trying to debug my feelings!\\'”\\n\\n**Here\\'s what makes it funny:**\\n\\n* **AI Logic:** The joke plays on the *perception* of AI – that they operate on cold, logical calculations. It imagines the AI using statistics to objectively analyze a relationship.\\n* **\"Statistically Insignificant\":** This is a key phrase.  In statistics, \"statistically insignificant\" means there\\'s not enough data to prove a strong connection. It’s a very dry, scientific way of saying they weren\\'t a good match.\\n* **\"Debugging My Feelings!\":** This is the core of the humor.  It\\'s poking fun at programmers\\' tendency to analyze and try to fix things, even emotions.  The AI is telling the programmer that they’re trying to *fix* how it *feels*, which is frustrating!\\n\\n**In short, it\\'s a clever joke about the contrast between the logical, data-driven nature of AI and the often overly analytical (and sometimes intrusive) behavior of programmers.**\\n\\n---\\n\\nDo you want to hear another joke, or would you prefer a different type of humor (like a pun, a riddle, or a short story)?'}),), interrupts=()),\n",
       " StateSnapshot(values={'topic': 'AI'}, next=('generate_joke',), config={'configurable': {'thread_id': '1', 'checkpoint_ns': '', 'checkpoint_id': '1f06ef90-37a3-69c6-8000-aef7d584ea00'}}, metadata={'source': 'loop', 'step': 0, 'parents': {}, 'thread_id': '1'}, created_at='2025-08-01T17:00:23.273927+00:00', parent_config={'configurable': {'thread_id': '1', 'checkpoint_ns': '', 'checkpoint_id': '1f06ef90-379e-6ba5-bfff-e40160b92e7f'}}, tasks=(PregelTask(id='73a743cd-36f3-1072-66b1-36cbc597ec16', name='generate_joke', path=('__pregel_pull', 'generate_joke'), error=None, interrupts=(), state=None, result={'joke': 'Okay, buckle up, buttercup! Here’s a joke for you about AI:\\n\\nWhy did the AI break up with the programmer? \\n\\n... Because it said, \"I\\'ve calculated that our compatibility is statistically insignificant. Plus, you kept trying to debug my feelings!\" \\n\\n---\\n\\nHow’s that for a little digital giggle? 😄 \\n\\nWould you like to hear another one, or maybe a different type of joke?'}),), interrupts=()),\n",
       " StateSnapshot(values={}, next=('__start__',), config={'configurable': {'thread_id': '1', 'checkpoint_ns': '', 'checkpoint_id': '1f06ef90-379e-6ba5-bfff-e40160b92e7f'}}, metadata={'source': 'input', 'step': -1, 'parents': {}, 'thread_id': '1'}, created_at='2025-08-01T17:00:23.271926+00:00', parent_config=None, tasks=(PregelTask(id='f4a9f857-4ed4-4900-a83f-a6d8736b0fe6', name='__start__', path=('__pregel_pull', '__start__'), error=None, interrupts=(), state=None, result={'topic': 'AI'}),), interrupts=())]"
      ]
     },
     "execution_count": 30,
     "metadata": {},
     "output_type": "execute_result"
    }
   ],
   "source": [
    "list(wf.get_state_history(config))"
   ]
  },
  {
   "cell_type": "code",
   "execution_count": 32,
   "id": "87070337",
   "metadata": {},
   "outputs": [
    {
     "data": {
      "text/plain": [
       "{'topic': 'Notebook',\n",
       " 'joke': \"Okay, buckle up, buttercup! Here's a joke about notebooks:\\n\\nWhy did the notebook break up with the pen? \\n\\n... Because it said, “You’re just writing things down, you’re not *really* listening!” \\n\\n---\\n\\n**(Agent Smiley Face Emoji)**  Hope that tickled your funny bone!  Do you want another one?\",\n",
       " 'explanation': 'Okay, let\\'s break down this joke!\\n\\nThe humor comes from a clever play on words and a slightly passive-aggressive sentiment.\\n\\n* **The Setup:** \"Why did the notebook break up with the pen?\" - This sets up a surprising and unexpected reason for a breakup.\\n* **The Punchline:** “You’re just writing things down, you’re not *really* listening!” - This is the joke.  A notebook *records* information, it doesn\\'t actively *listen* in the way a person does. It\\'s a sarcastic way of saying the pen was only focused on putting words on paper, not understanding or engaging with the ideas.\\n\\n**Essentially, it\\'s a funny observation about the difference between recording and understanding.**\\n\\nThe Agent Smiley Face Emoji adds to the lighthearted, playful tone of the joke.\\n\\n---\\n\\nDo you want to try to explain another joke to me?'}"
      ]
     },
     "execution_count": 32,
     "metadata": {},
     "output_type": "execute_result"
    }
   ],
   "source": [
    "wf.invoke(None,{'configurable':{\"thread_id\":\"1\",\"checkpoint_id\":'1f070f04-5e71-65ca-8001-691a520e0ddf'}})"
   ]
  },
  {
   "cell_type": "code",
   "execution_count": null,
   "id": "3d548055",
   "metadata": {},
   "outputs": [],
   "source": []
  }
 ],
 "metadata": {
  "kernelspec": {
   "display_name": "my_env",
   "language": "python",
   "name": "python3"
  },
  "language_info": {
   "codemirror_mode": {
    "name": "ipython",
    "version": 3
   },
   "file_extension": ".py",
   "mimetype": "text/x-python",
   "name": "python",
   "nbconvert_exporter": "python",
   "pygments_lexer": "ipython3",
   "version": "3.12.9"
  }
 },
 "nbformat": 4,
 "nbformat_minor": 5
}
