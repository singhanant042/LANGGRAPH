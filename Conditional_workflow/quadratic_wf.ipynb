{
 "cells": [
  {
   "cell_type": "code",
   "execution_count": 40,
   "id": "54d255f0",
   "metadata": {},
   "outputs": [],
   "source": [
    "from langgraph.graph import StateGraph,START,END\n",
    "from typing import TypedDict,Literal"
   ]
  },
  {
   "cell_type": "code",
   "execution_count": 41,
   "id": "20b7679d",
   "metadata": {},
   "outputs": [],
   "source": [
    "class Quad_State(TypedDict):\n",
    "    a:int\n",
    "    b:int\n",
    "    c:int\n",
    "    \n",
    "    equation:str\n",
    "    discriminant:float\n",
    "    result:str"
   ]
  },
  {
   "cell_type": "code",
   "execution_count": 42,
   "id": "2d8db646",
   "metadata": {},
   "outputs": [],
   "source": [
    "def show_equation(state:Quad_State):\n",
    "    equation=f\"{state['a']}x² + {state['b']}x + {state['c']}\"\n",
    "    return {'equation':equation}\n",
    "\n",
    "def calculate_discriminant(state: Quad_State):\n",
    "    return {'discriminant': state['b']**2 - 4*state['a']*state['c']}"
   ]
  },
  {
   "cell_type": "code",
   "execution_count": 43,
   "id": "3fc5aec7",
   "metadata": {},
   "outputs": [],
   "source": [
    "def real_roots(state: Quad_State):\n",
    "\n",
    "    root1 = (-state[\"b\"] + state[\"discriminant\"]**0.5)/(2*state[\"a\"])\n",
    "    root2 = (-state[\"b\"] - state[\"discriminant\"]**0.5)/(2*state[\"a\"])\n",
    "\n",
    "    result = f'The roots are {root1} and {root2}'\n",
    "\n",
    "    return {'result': result}\n",
    "\n",
    "def real_and_equal(state:Quad_State):\n",
    "    root = (-state[\"b\"])/(2*state[\"a\"])\n",
    "    result = f'Only repeating root is {root}'\n",
    "\n",
    "    return {'result': result}\n",
    "\n",
    "def no_real_roots(state:Quad_State):\n",
    "\n",
    "    result = f'No real roots'\n",
    "\n",
    "    return {'result': result}\n",
    "\n",
    "\n",
    "def check_condition(state: Quad_State) -> Literal['real_roots', 'real_and_equal', 'no_real_roots']:\n",
    "    if state['discriminant'] > 0:\n",
    "        return 'real_roots'\n",
    "    elif state['discriminant'] == 0:\n",
    "        return 'real_and_equal'\n",
    "    else:\n",
    "        return 'no_real_roots'\n",
    "\n",
    "\n",
    "    "
   ]
  },
  {
   "cell_type": "code",
   "execution_count": 44,
   "id": "061dc39f",
   "metadata": {},
   "outputs": [],
   "source": [
    "graph=StateGraph(Quad_State)\n",
    "\n",
    "graph.add_node('show_equation',show_equation)\n",
    "graph.add_node('calculate_discriminant',calculate_discriminant)\n",
    "\n",
    "graph.add_node('real_roots',real_roots)\n",
    "graph.add_node('real_and_equal',real_and_equal)\n",
    "graph.add_node('no_real_roots',no_real_roots)\n",
    "\n",
    "\n",
    "\n",
    "graph.add_edge(START,'show_equation')\n",
    "graph.add_edge('show_equation','calculate_discriminant')\n",
    "\n",
    "graph.add_conditional_edges('calculate_discriminant',check_condition)\n",
    "\n",
    "graph.add_edge('real_roots',END)\n",
    "graph.add_edge('real_and_equal',END)\n",
    "graph.add_edge('no_real_roots',END)\n",
    "\n",
    "\n",
    "wf=graph.compile()\n"
   ]
  },
  {
   "cell_type": "code",
   "execution_count": 45,
   "id": "1b4f7dfa",
   "metadata": {},
   "outputs": [
    {
     "data": {
      "text/plain": [
       "{'a': 4,\n",
       " 'b': -5,\n",
       " 'c': -4,\n",
       " 'equation': '4x² + -5x + -4',\n",
       " 'discriminant': 89,\n",
       " 'result': 'The roots are 1.8042476415070754 and -0.5542476415070754'}"
      ]
     },
     "execution_count": 45,
     "metadata": {},
     "output_type": "execute_result"
    }
   ],
   "source": [
    "intial_state={'a':4,'b':-5,'c':-4}\n",
    "wf.invoke(intial_state)"
   ]
  },
  {
   "cell_type": "markdown",
   "id": "0b3dd9b2",
   "metadata": {},
   "source": []
  },
  {
   "cell_type": "code",
   "execution_count": null,
   "id": "040c5d2c",
   "metadata": {},
   "outputs": [],
   "source": []
  }
 ],
 "metadata": {
  "kernelspec": {
   "display_name": "my_env",
   "language": "python",
   "name": "python3"
  },
  "language_info": {
   "codemirror_mode": {
    "name": "ipython",
    "version": 3
   },
   "file_extension": ".py",
   "mimetype": "text/x-python",
   "name": "python",
   "nbconvert_exporter": "python",
   "pygments_lexer": "ipython3",
   "version": "3.12.9"
  }
 },
 "nbformat": 4,
 "nbformat_minor": 5
}
