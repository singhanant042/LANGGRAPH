{
 "cells": [
  {
   "cell_type": "code",
   "execution_count": 10,
   "id": "209deb0d",
   "metadata": {},
   "outputs": [],
   "source": [
    "from langgraph.graph import StateGraph,START,END\n",
    "from typing import TypedDict\n",
    "from langchain_ollama import ChatOllama"
   ]
  },
  {
   "cell_type": "code",
   "execution_count": 11,
   "id": "04eed1b4",
   "metadata": {},
   "outputs": [],
   "source": [
    "model=ChatOllama(model='gemma3')"
   ]
  },
  {
   "cell_type": "code",
   "execution_count": 12,
   "id": "3ceb3e9d",
   "metadata": {},
   "outputs": [],
   "source": [
    "class BlogState(TypedDict):\n",
    "    title:str\n",
    "    outline:str\n",
    "    content:str"
   ]
  },
  {
   "cell_type": "code",
   "execution_count": 13,
   "id": "af6de41e",
   "metadata": {},
   "outputs": [],
   "source": [
    "def create_outline(state:BlogState)->BlogState:\n",
    "    title=state['title']\n",
    "    prompt=f\"Give the outline for a blog on the title:{title}\"\n",
    "    result=model.invoke(prompt).content\n",
    "    state['outline']=result\n",
    "    return state\n",
    "    "
   ]
  },
  {
   "cell_type": "code",
   "execution_count": 14,
   "id": "1a64cb68",
   "metadata": {},
   "outputs": [],
   "source": [
    "def create_blog(state:BlogState)->BlogState:\n",
    "    outline=state['outline']\n",
    "    title=state['title']\n",
    "    prompt=f\"Write a detailed blog on the title:{title},using the following outline:{outline}\"\n",
    "    result=model.invoke(prompt).content\n",
    "    state['content']=result\n",
    "    return state"
   ]
  },
  {
   "cell_type": "code",
   "execution_count": 15,
   "id": "09fd2812",
   "metadata": {},
   "outputs": [],
   "source": [
    "graph=StateGraph(BlogState)\n",
    "graph.add_node('create_outline',create_outline)\n",
    "graph.add_node('create_blog',create_blog)\n",
    "\n",
    "graph.add_edge(START,'create_outline')\n",
    "graph.add_edge('create_blog',END)\n",
    "wf=graph.compile()"
   ]
  },
  {
   "cell_type": "code",
   "execution_count": null,
   "id": "fb51cda9",
   "metadata": {},
   "outputs": [
    {
     "name": "stdout",
     "output_type": "stream",
     "text": [
      "{'title': 'AI', 'outline': 'Okay, here\\'s a blog outline for a post titled \"AI: More Than Just Robots\" – aiming for a comprehensive yet accessible overview. I’ve broken it down into sections with estimated word counts to help guide you.\\n\\n**Blog Title: AI: More Than Just Robots**\\n\\n**I. Introduction (150-200 words)**\\n\\n*   **Hook:** Start with a surprising fact or a relatable scenario involving AI (e.g., Netflix recommending a show, voice assistant answering a question, self-driving car).\\n*   **Briefly Define AI:**  Don’t get bogged down in technical jargon.  Focus on the core idea: \"AI, or Artificial Intelligence, is about creating machines that can perform tasks that typically require human intelligence.”\\n*   **Debunk the Myth:** Quickly address the common image of robots taking over the world. Emphasize that most current AI is far more subtle and integrated into our daily lives.\\n*   **Thesis Statement:**  \"AI isn’t just about futuristic robots; it\\'s a powerful set of technologies already shaping industries and impacting how we live, work, and interact with the world.\"\\n\\n\\n**II. What *Is* AI? (250-300 words)**\\n\\n*   **Types of AI (Simplified):**\\n    *   **Narrow or Weak AI:**  This is what we mostly have *now*. Designed for a specific task (e.g., spam filtering, image recognition, playing chess). Give simple examples.\\n    *   **General or Strong AI (Brief Mention):**  Explain that this is the theoretical goal – machines with human-level intelligence capable of learning *anything* a human can.  Don’t dwell here.\\n*   **Key Techniques (Very Briefly):**\\n    *   **Machine Learning:**  “AI learns from data, without being explicitly programmed.” Give a simple example like how Netflix learns your preferences.\\n    *   **Deep Learning:** (Briefly) Explain this is a *subset* of Machine Learning, using artificial neural networks.\\n    *   **Data is Key:** Highlight that AI\\'s success depends heavily on the amount and quality of data it\\'s trained on.\\n\\n\\n**III. AI in Action – Real-World Examples (400-500 words)**\\n\\n*   **Divide into Categories:**  This is where you showcase the breadth of AI applications.\\n    *   **Healthcare:**  AI assisting in diagnostics, drug discovery, personalized medicine.\\n    *   **Finance:**  Fraud detection, algorithmic trading, personalized financial advice.\\n    *   **Retail:**  Recommendations, chatbots, supply chain optimization.\\n    *   **Transportation:** Self-driving cars (mention progress and challenges), traffic management.\\n    *   **Entertainment:**  Recommendation engines (Netflix, Spotify), AI-generated music/art.\\n    *   **Customer Service:** Chatbots and virtual assistants.\\n\\n*   **Include brief, compelling examples** within each category – make it relatable.\\n\\n**IV. The Future of AI (200-300 words)**\\n\\n*   **Potential Developments:** Discuss emerging trends (don’t overhype):\\n    *   **Generative AI:** (ChatGPT, DALL-E, etc.) - briefly explain its capabilities.\\n    *   **AI-powered Automation:** Increased automation across industries.\\n    *   **Edge AI:** Processing data closer to the source (e.g., self-driving cars).\\n*   **Ethical Considerations (Briefly Introduce):**  Mention the importance of responsible AI development - bias, job displacement, privacy.  \"These are important conversations to be having now.\"\\n\\n**V. Conclusion (100-150 words)**\\n\\n*   **Reiterate the Main Point:**  AI is a transformative technology with wide-ranging applications.\\n*   **Call to Action (Optional):** Encourage readers to learn more, explore the topic further, or consider its impact on their own lives/work.  (e.g., “What applications of AI are you most excited about?”)\\n\\n\\n\\n---\\n\\n**Notes & Tips for Writing:**\\n\\n*   **Target Audience:**  Assume a general audience with little to no prior knowledge of AI.\\n*   **Tone:**  Informative, engaging, and approachable.  Avoid overly technical jargon.\\n*   **Visuals:**  Include images or screenshots to break up the text and illustrate concepts.\\n*   **Links:**  Provide links to reputable sources for readers who want to learn more.\\n\\nTo help me refine this outline even further, could you tell me:\\n\\n*   What\\'s the approximate length you’re aiming for (e.g., 800 words, 1200 words)?\\n*   Is there a specific angle you want to emphasize (e.g., the ethical implications, the business applications, or the creative potential)?'}\n"
     ]
    }
   ],
   "source": [
    "initial_state={'title':'AI'}\n",
    "result=wf.invoke(initial_state)\n",
    "print(result)\n"
   ]
  },
  {
   "cell_type": "code",
   "execution_count": 17,
   "id": "07ebd0bd",
   "metadata": {},
   "outputs": [
    {
     "name": "stdout",
     "output_type": "stream",
     "text": [
      "Okay, here's a blog outline for a post titled \"AI: More Than Just Robots\" – aiming for a comprehensive yet accessible overview. I’ve broken it down into sections with estimated word counts to help guide you.\n",
      "\n",
      "**Blog Title: AI: More Than Just Robots**\n",
      "\n",
      "**I. Introduction (150-200 words)**\n",
      "\n",
      "*   **Hook:** Start with a surprising fact or a relatable scenario involving AI (e.g., Netflix recommending a show, voice assistant answering a question, self-driving car).\n",
      "*   **Briefly Define AI:**  Don’t get bogged down in technical jargon.  Focus on the core idea: \"AI, or Artificial Intelligence, is about creating machines that can perform tasks that typically require human intelligence.”\n",
      "*   **Debunk the Myth:** Quickly address the common image of robots taking over the world. Emphasize that most current AI is far more subtle and integrated into our daily lives.\n",
      "*   **Thesis Statement:**  \"AI isn’t just about futuristic robots; it's a powerful set of technologies already shaping industries and impacting how we live, work, and interact with the world.\"\n",
      "\n",
      "\n",
      "**II. What *Is* AI? (250-300 words)**\n",
      "\n",
      "*   **Types of AI (Simplified):**\n",
      "    *   **Narrow or Weak AI:**  This is what we mostly have *now*. Designed for a specific task (e.g., spam filtering, image recognition, playing chess). Give simple examples.\n",
      "    *   **General or Strong AI (Brief Mention):**  Explain that this is the theoretical goal – machines with human-level intelligence capable of learning *anything* a human can.  Don’t dwell here.\n",
      "*   **Key Techniques (Very Briefly):**\n",
      "    *   **Machine Learning:**  “AI learns from data, without being explicitly programmed.” Give a simple example like how Netflix learns your preferences.\n",
      "    *   **Deep Learning:** (Briefly) Explain this is a *subset* of Machine Learning, using artificial neural networks.\n",
      "    *   **Data is Key:** Highlight that AI's success depends heavily on the amount and quality of data it's trained on.\n",
      "\n",
      "\n",
      "**III. AI in Action – Real-World Examples (400-500 words)**\n",
      "\n",
      "*   **Divide into Categories:**  This is where you showcase the breadth of AI applications.\n",
      "    *   **Healthcare:**  AI assisting in diagnostics, drug discovery, personalized medicine.\n",
      "    *   **Finance:**  Fraud detection, algorithmic trading, personalized financial advice.\n",
      "    *   **Retail:**  Recommendations, chatbots, supply chain optimization.\n",
      "    *   **Transportation:** Self-driving cars (mention progress and challenges), traffic management.\n",
      "    *   **Entertainment:**  Recommendation engines (Netflix, Spotify), AI-generated music/art.\n",
      "    *   **Customer Service:** Chatbots and virtual assistants.\n",
      "\n",
      "*   **Include brief, compelling examples** within each category – make it relatable.\n",
      "\n",
      "**IV. The Future of AI (200-300 words)**\n",
      "\n",
      "*   **Potential Developments:** Discuss emerging trends (don’t overhype):\n",
      "    *   **Generative AI:** (ChatGPT, DALL-E, etc.) - briefly explain its capabilities.\n",
      "    *   **AI-powered Automation:** Increased automation across industries.\n",
      "    *   **Edge AI:** Processing data closer to the source (e.g., self-driving cars).\n",
      "*   **Ethical Considerations (Briefly Introduce):**  Mention the importance of responsible AI development - bias, job displacement, privacy.  \"These are important conversations to be having now.\"\n",
      "\n",
      "**V. Conclusion (100-150 words)**\n",
      "\n",
      "*   **Reiterate the Main Point:**  AI is a transformative technology with wide-ranging applications.\n",
      "*   **Call to Action (Optional):** Encourage readers to learn more, explore the topic further, or consider its impact on their own lives/work.  (e.g., “What applications of AI are you most excited about?”)\n",
      "\n",
      "\n",
      "\n",
      "---\n",
      "\n",
      "**Notes & Tips for Writing:**\n",
      "\n",
      "*   **Target Audience:**  Assume a general audience with little to no prior knowledge of AI.\n",
      "*   **Tone:**  Informative, engaging, and approachable.  Avoid overly technical jargon.\n",
      "*   **Visuals:**  Include images or screenshots to break up the text and illustrate concepts.\n",
      "*   **Links:**  Provide links to reputable sources for readers who want to learn more.\n",
      "\n",
      "To help me refine this outline even further, could you tell me:\n",
      "\n",
      "*   What's the approximate length you’re aiming for (e.g., 800 words, 1200 words)?\n",
      "*   Is there a specific angle you want to emphasize (e.g., the ethical implications, the business applications, or the creative potential)?\n"
     ]
    }
   ],
   "source": [
    "print(result['outline'])"
   ]
  },
  {
   "cell_type": "code",
   "execution_count": null,
   "id": "7fc8ad42",
   "metadata": {},
   "outputs": [],
   "source": []
  }
 ],
 "metadata": {
  "kernelspec": {
   "display_name": "my_env",
   "language": "python",
   "name": "python3"
  },
  "language_info": {
   "codemirror_mode": {
    "name": "ipython",
    "version": 3
   },
   "file_extension": ".py",
   "mimetype": "text/x-python",
   "name": "python",
   "nbconvert_exporter": "python",
   "pygments_lexer": "ipython3",
   "version": "3.12.9"
  }
 },
 "nbformat": 4,
 "nbformat_minor": 5
}
