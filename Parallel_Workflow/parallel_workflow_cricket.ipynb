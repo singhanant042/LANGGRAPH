{
 "cells": [
  {
   "cell_type": "code",
   "execution_count": 60,
   "id": "124b5226",
   "metadata": {},
   "outputs": [],
   "source": [
    "from langgraph.graph import StateGraph,START,END\n",
    "from typing import TypedDict"
   ]
  },
  {
   "cell_type": "code",
   "execution_count": 61,
   "id": "5d0720cf",
   "metadata": {},
   "outputs": [],
   "source": [
    "class Batsman(TypedDict):\n",
    "    runs:int\n",
    "    balls:int\n",
    "    fours:int\n",
    "    sixes:int\n",
    "    \n",
    "    sr:float\n",
    "    bpb:float\n",
    "    boundary_percentage:float\n",
    "    summary:str"
   ]
  },
  {
   "cell_type": "code",
   "execution_count": 77,
   "id": "0ea0116f",
   "metadata": {},
   "outputs": [],
   "source": [
    "def calculate_sr(state:Batsman)->Batsman:\n",
    "    sr=(state['runs']/state['balls'])*100\n",
    "    return {'sr':sr}"
   ]
  },
  {
   "cell_type": "code",
   "execution_count": 64,
   "id": "34d9976e",
   "metadata": {},
   "outputs": [],
   "source": [
    "def calculate_bpb(state:Batsman)->Batsman:\n",
    "    bpb=state['balls']/(state['fours']+state['sixes'])\n",
    "    return {'bpb':bpb}"
   ]
  },
  {
   "cell_type": "code",
   "execution_count": 70,
   "id": "5f70560a",
   "metadata": {},
   "outputs": [],
   "source": [
    "def calculate_boundary_percent(state:Batsman)->Batsman:\n",
    "    percentage=(((state['fours']*4+state['sixes']*6))/state['runs'])*100\n",
    "    \n",
    "    return {'boundary_percentage':percentage}"
   ]
  },
  {
   "cell_type": "code",
   "execution_count": 74,
   "id": "4bf0684f",
   "metadata": {},
   "outputs": [],
   "source": [
    "def summary(state:Batsman)->Batsman:\n",
    "    summary=f\"\"\"\n",
    "    Strike_Rate={state['sr']}\\n\n",
    "    Balls per boundary={state['bpb']}\\n\n",
    "    Boundary percent={state['boundary_percentage']}\n",
    "    \"\"\"\n",
    "    return {'summary':summary}"
   ]
  },
  {
   "cell_type": "code",
   "execution_count": 78,
   "id": "80d782b1",
   "metadata": {},
   "outputs": [],
   "source": [
    "graph=StateGraph(Batsman)\n",
    "\n",
    "graph.add_node('calculate_sr',calculate_sr)\n",
    "graph.add_node('calculate_bpb',calculate_bpb)\n",
    "graph.add_node('calculate_boundary_percent',calculate_boundary_percent)\n",
    "graph.add_node('summary',summary)\n",
    "\n",
    "#edges\n",
    "graph.add_edge(START,'calculate_sr')\n",
    "graph.add_edge(START,'calculate_bpb')\n",
    "graph.add_edge(START,'calculate_boundary_percent')\n",
    "\n",
    "\n",
    "graph.add_edge('calculate_sr','summary')\n",
    "graph.add_edge('calculate_bpb','summary')\n",
    "graph.add_edge('calculate_boundary_percent','summary')\n",
    "graph.add_edge('summary',END)\n",
    "\n",
    "wf=graph.compile()\n",
    "\n"
   ]
  },
  {
   "cell_type": "code",
   "execution_count": 79,
   "id": "6ad8fca9",
   "metadata": {},
   "outputs": [
    {
     "name": "stdout",
     "output_type": "stream",
     "text": [
      "{'runs': 170, 'balls': 123, 'fours': 10, 'sixes': 7, 'sr': 138.21138211382114, 'bpb': 7.235294117647059, 'boundary_percentage': 48.23529411764706, 'summary': '\\n    Strike_Rate=138.21138211382114\\n\\n    Balls per boundary=7.235294117647059\\n\\n    Boundary percent=48.23529411764706\\n    '}\n"
     ]
    }
   ],
   "source": [
    "initial_state={'runs':170,'balls':123,'fours':10,'sixes':7}\n",
    "result=wf.invoke(initial_state)\n",
    "print(result)"
   ]
  },
  {
   "cell_type": "code",
   "execution_count": null,
   "id": "76273772",
   "metadata": {},
   "outputs": [],
   "source": []
  }
 ],
 "metadata": {
  "kernelspec": {
   "display_name": "my_env",
   "language": "python",
   "name": "python3"
  },
  "language_info": {
   "codemirror_mode": {
    "name": "ipython",
    "version": 3
   },
   "file_extension": ".py",
   "mimetype": "text/x-python",
   "name": "python",
   "nbconvert_exporter": "python",
   "pygments_lexer": "ipython3",
   "version": "3.12.9"
  }
 },
 "nbformat": 4,
 "nbformat_minor": 5
}
