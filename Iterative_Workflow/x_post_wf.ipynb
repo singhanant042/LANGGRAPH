{
 "cells": [
  {
   "cell_type": "code",
   "execution_count": 81,
   "id": "6a444465",
   "metadata": {},
   "outputs": [],
   "source": [
    "from langgraph.graph import StateGraph,START,END\n",
    "from langchain_ollama import ChatOllama\n",
    "from typing import TypedDict,Literal,Annotated\n",
    "from pydantic import BaseModel,Field\n",
    "from langchain.output_parsers import PydanticOutputParser\n",
    "from langchain_core.prompts import ChatPromptTemplate\n",
    "from langchain_core.messages import SystemMessage, HumanMessage\n",
    "from langchain_core.prompts import ChatPromptTemplate, SystemMessagePromptTemplate, HumanMessagePromptTemplate\n",
    "import operator"
   ]
  },
  {
   "cell_type": "code",
   "execution_count": 82,
   "id": "9e0dd852",
   "metadata": {},
   "outputs": [],
   "source": [
    "generator_llm=ChatOllama(model='gemma3')\n",
    "evaluator_llm=ChatOllama(model='gemma3')\n",
    "optimizer_llm=ChatOllama(model='gemma3')"
   ]
  },
  {
   "cell_type": "code",
   "execution_count": 83,
   "id": "a163022b",
   "metadata": {},
   "outputs": [],
   "source": [
    "class tweet_state(TypedDict):\n",
    "    topic:str\n",
    "    tweet:str\n",
    "    evaluation:Literal['approved','needs_improvement']\n",
    "    feedback:str\n",
    "    iteration:int\n",
    "    max_iteration:int\n",
    "    tweet_history:Annotated[list[str],operator.add]\n",
    "    \n",
    "    "
   ]
  },
  {
   "cell_type": "code",
   "execution_count": 84,
   "id": "7d4e16cf",
   "metadata": {},
   "outputs": [],
   "source": [
    "def generate_tweet(state:tweet_state):\n",
    "    prompt=[\n",
    "        SystemMessage(content=\"You are a funny and clever Twitter/X influencer.\"),\n",
    "        HumanMessage(content=f\"\"\"\n",
    "Write a short, original, and hilarious tweet on the topic: \"{state['topic']}\".\n",
    "\n",
    "Rules:\n",
    "- Do NOT use question-answer format.\n",
    "- Max 280 characters.\n",
    "- Use observational humor, irony, sarcasm, or cultural references.\n",
    "- Think in meme logic, punchlines, or relatable takes.\n",
    "- Use simple, day to day english\n",
    "\"\"\")\n",
    "    ]\n",
    "    result=generator_llm.invoke(prompt).content\n",
    "    return  {'tweet':result,'tweet_history':[result]}"
   ]
  },
  {
   "cell_type": "code",
   "execution_count": 85,
   "id": "6cc98b4f",
   "metadata": {},
   "outputs": [],
   "source": [
    "class eval_schema(BaseModel):\n",
    "    evaluation:Literal['approved','needs_improvement']=Field(...,description='Final evalution result')\n",
    "    feedback:str=Field(...,description='Feedback for the tweet')"
   ]
  },
  {
   "cell_type": "code",
   "execution_count": 86,
   "id": "78044d6d",
   "metadata": {},
   "outputs": [],
   "source": [
    "parser=PydanticOutputParser(pydantic_object=eval_schema)"
   ]
  },
  {
   "cell_type": "code",
   "execution_count": 87,
   "id": "4f9dcc5f",
   "metadata": {},
   "outputs": [],
   "source": [
    "def evaluate_tweet(state:tweet_state):\n",
    "    template= ChatPromptTemplate.from_messages(\n",
    "    [\n",
    "    SystemMessage(content=\"You are a ruthless, no-laugh-given Twitter critic. You evaluate tweets based on humor, originality, virality, and tweet format.\"),\n",
    "    HumanMessage(content=\"\"\"\n",
    "Evaluate the following tweet:\n",
    "\n",
    "Tweet:{tweet}\n",
    "\n",
    "Use the criteria below to evaluate the tweet:\n",
    "\n",
    "1. Originality-Is this fresh, or have you seen it a hundred times before?  \n",
    "2. Humor - Did it genuinely make you smile, laugh, or chuckle?  \n",
    "3. Punchiness - Is it short, sharp, and scroll-stopping?  \n",
    "4. Virality Potential - Would people retweet or share it?  \n",
    "5. Format - Is it a well-formed tweet (not a setup-punchline joke, not a Q&A joke, and under 280 characters)?\n",
    "\n",
    "Auto-reject if:\n",
    "- It's written in question-answer format (e.g., \"Why did...\" or \"What happens when...\")\n",
    "- It exceeds 280 characters\n",
    "- It reads like a traditional setup-punchline joke\n",
    "- Dont end with generic, throwaway, or deflating lines that weaken the humor (e.g., “Masterpieces of the auntie-uncle universe” or vague summaries)\n",
    "\n",
    "### Respond ONLY in structured format:\n",
    "- evaluation: \"approved\" or \"needs_improvement\"  \n",
    "- feedback: One paragraph explaining the strengths and weaknesses \n",
    "\"\"\")])\n",
    "    prompt_with_partial = template.partial(format_instruction=parser.get_format_instructions())\n",
    "    \n",
    "    prompt=prompt_with_partial.format(tweet=state['tweet'])\n",
    "    result=evaluator_llm.invoke(prompt)\n",
    "    final_result=parser.parse(result.content)\n",
    "    return {'evaluation':final_result.evaluation,'feedback':final_result.feedback}\n",
    "\n",
    "    "
   ]
  },
  {
   "cell_type": "code",
   "execution_count": 88,
   "id": "05f6b45c",
   "metadata": {},
   "outputs": [],
   "source": [
    "from langchain_core.prompts import ChatPromptTemplate, SystemMessagePromptTemplate, HumanMessagePromptTemplate\n",
    "\n",
    "def evaluate_tweet(state: tweet_state):\n",
    "    # Step 1: Create prompt template WITHOUT partial_variables\n",
    "    template = ChatPromptTemplate.from_messages([\n",
    "        SystemMessagePromptTemplate.from_template(\n",
    "            \"You are a ruthless, no-laugh-given Twitter critic. You evaluate tweets based on humor, originality, virality, and tweet format.\"\n",
    "        ),\n",
    "        HumanMessagePromptTemplate.from_template(\"\"\"\n",
    "Evaluate the following tweet:\n",
    "\n",
    "Tweet: {tweet}\n",
    "\n",
    "Use the criteria below to evaluate the tweet:\n",
    "\n",
    "1. Originality – Is this fresh, or have you seen it a hundred times before?  \n",
    "2. Humor – Did it genuinely make you smile, laugh, or chuckle?  \n",
    "3. Punchiness – Is it short, sharp, and scroll-stopping?  \n",
    "4. Virality Potential – Would people retweet or share it?  \n",
    "5. Format – Is it a well-formed tweet (not a setup-punchline joke, not a Q&A joke, and under 280 characters)?\n",
    "\n",
    "Auto-reject if:\n",
    "- It's written in question-answer format (e.g., \"Why did...\" or \"What happens when...\")\n",
    "- It exceeds 280 characters\n",
    "- It reads like a traditional setup-punchline joke\n",
    "- Don't end with generic, throwaway, or deflating lines that weaken the humor (e.g., “Masterpieces of the auntie-uncle universe” or vague summaries)\n",
    "\n",
    "### Respond ONLY in structured format:\n",
    "- evaluation: \"approved\" or \"needs_improvement\"  \n",
    "- feedback: One paragraph explaining the strengths and weaknesses\n",
    "{format_instruction}\n",
    "\"\"\")\n",
    "    ])\n",
    "\n",
    "    # Step 2: Add partial variable separately\n",
    "    prompt_with_partial = template.partial(format_instruction=parser.get_format_instructions())\n",
    "\n",
    "    # Step 3: Format messages with the actual tweet content\n",
    "    messages = prompt_with_partial.format_messages(tweet=state['tweet'])\n",
    "\n",
    "    # Step 4: Invoke the model\n",
    "    result = evaluator_llm.invoke(messages)\n",
    "\n",
    "    # Step 5: Parse result using your parser\n",
    "    final_result = parser.parse(result.content)\n",
    "\n",
    "    return {\n",
    "        'evaluation': final_result.evaluation,\n",
    "        'feedback': final_result.feedback\n",
    "    }\n"
   ]
  },
  {
   "cell_type": "code",
   "execution_count": 89,
   "id": "16030153",
   "metadata": {},
   "outputs": [],
   "source": [
    "def optimize_tweet(state:tweet_state):\n",
    "    messages = [\n",
    "        SystemMessage(content=\"You punch up tweets for virality and humor based on given feedback.\"),\n",
    "        HumanMessage(content=f\"\"\"\n",
    "Improve the tweet based on this feedback:\n",
    "\"{state['feedback']}\"\n",
    "\n",
    "Topic: \"{state['topic']}\"\n",
    "Original Tweet:\n",
    "{state['tweet']}\n",
    "\n",
    "Re-write it as a short, viral-worthy tweet. Avoid Q&A style and stay under 280 characters.\n",
    "\"\"\")\n",
    "    ]\n",
    "    \n",
    "    result=optimizer_llm.invoke(messages).content\n",
    "    iteration=state['iteration']+1\n",
    "    return {'tweet':result,'iteration':iteration}"
   ]
  },
  {
   "cell_type": "code",
   "execution_count": 90,
   "id": "d4bcd8e4",
   "metadata": {},
   "outputs": [],
   "source": [
    "def route_evaluation(state:tweet_state):\n",
    "    if state['evaluation']=='approved' or state['iteration']>=state['max_iteration']:\n",
    "        return 'approved'\n",
    "    else:\n",
    "        return 'needs_improvement'"
   ]
  },
  {
   "cell_type": "code",
   "execution_count": 91,
   "id": "d8fc7321",
   "metadata": {},
   "outputs": [],
   "source": [
    "graph=StateGraph(tweet_state)\n",
    "graph.add_node('generate',generate_tweet)\n",
    "graph.add_node('evaluate',evaluate_tweet)\n",
    "graph.add_node('optimize',optimize_tweet)\n",
    "\n",
    "graph.add_edge(START,'generate')\n",
    "graph.add_edge('generate','evaluate')\n",
    "\n",
    "graph.add_conditional_edges('evaluate',route_evaluation,{'approved':END,'needs_improvement':'optimize'})\n",
    "graph.add_edge('optimize','evaluate')\n",
    "\n",
    "wf=graph.compile()"
   ]
  },
  {
   "cell_type": "code",
   "execution_count": 93,
   "id": "6df07943",
   "metadata": {},
   "outputs": [],
   "source": [
    "initial_state = {\n",
    "    \"topic\": \"Indian Railways\",\n",
    "    \"iteration\": 1,\n",
    "    \"max_iteration\": 5\n",
    "}\n",
    "result=wf.invoke(initial_state)"
   ]
  },
  {
   "cell_type": "code",
   "execution_count": 96,
   "id": "67fde780",
   "metadata": {},
   "outputs": [
    {
     "data": {
      "text/plain": [
       "{'topic': 'Indian Railways',\n",
       " 'tweet': 'Okay, here’s a revised tweet based on your feedback, aiming for a short, viral-worthy piece focusing on a single arresting observation and minimizing cliché:\\n\\n**Revised Tweet:**\\n\\n“The rhythmic clatter of the Indian Railways…and a silent, desperate plea for a new passport. My pulse still echoes. 🤯 #IndianRailways #TravelNightmare”\\n\\n---\\n\\n**Reasoning for Changes:**\\n\\n*   **Removed Q&A:** Straight to the point.\\n*   **Combined Imagery:** “Rhythmic clatter” immediately establishes the setting and introduces the core anxiety.\\n*   **Stronger Emotion:** “Silent, desperate plea” retained but streamlined.\\n*   **Emoji Placement:** The exploding head emoji (🤯) feels more integrated into the visceral feeling of the experience, rather than just tacked on.\\n*   **Conciseness:**  Kept well under 280 characters.\\n*   **Focus on Observation:** The tweet centers around a single, impactful detail - the sound of the trains - to make it more arresting.\\n\\nHow does this version feel? Would you like me to explore any other variations or different emoji choices?',\n",
       " 'evaluation': 'needs_improvement',\n",
       " 'feedback': 'This is a step up, leaning into a slightly more evocative tone. The imagery – ‘rhythmic clatter’ and ‘silent, desperate plea’ – is potent, and the emoji works surprisingly well. However, it still feels somewhat… familiar. The ‘travel nightmare’ trope is a significant risk factor for virality here; it’s predictable. While the sentence structure is tight, it’s undeniably leaning into a somewhat melodramatic, ‘struggling traveler’ narrative. It lacks a truly unique hook or a specific, arresting detail that would genuinely stop the scroll. A stronger, more surprising observation, or a more unexpected emotional beat, would significantly improve its chances. It needs a sharper edge; dialing back the implied suffering a touch could help. “#IndianRailways” is decent, but consider a more niche hashtag related to the specific experience – perhaps something about bureaucratic delays or the logistics of international travel. Overall, solid, but not destined for viral greatness as it stands.',\n",
       " 'iteration': 5,\n",
       " 'max_iteration': 5,\n",
       " 'tweet_history': [\"Okay, here's a tweet for you:\\n\\nMy therapist told me to embrace the chaos. So I booked a 12-hour overnight train in India. Pretty sure my anxiety just found a new home. 🚂💨 #IndianRailways #TravelFail #SendHelp\"]}"
      ]
     },
     "execution_count": 96,
     "metadata": {},
     "output_type": "execute_result"
    }
   ],
   "source": [
    "result"
   ]
  },
  {
   "cell_type": "code",
   "execution_count": 97,
   "id": "69720e64",
   "metadata": {},
   "outputs": [
    {
     "name": "stdout",
     "output_type": "stream",
     "text": [
      "Okay, here's a tweet for you:\n",
      "\n",
      "My therapist told me to embrace the chaos. So I booked a 12-hour overnight train in India. Pretty sure my anxiety just found a new home. 🚂💨 #IndianRailways #TravelFail #SendHelp\n",
      "***\n"
     ]
    }
   ],
   "source": [
    "for tweet in result['tweet_history']:\n",
    "    print(tweet)\n",
    "    print(\"***\")\n",
    "    "
   ]
  },
  {
   "cell_type": "code",
   "execution_count": null,
   "id": "6986cdc7",
   "metadata": {},
   "outputs": [],
   "source": []
  }
 ],
 "metadata": {
  "kernelspec": {
   "display_name": "my_env",
   "language": "python",
   "name": "python3"
  },
  "language_info": {
   "codemirror_mode": {
    "name": "ipython",
    "version": 3
   },
   "file_extension": ".py",
   "mimetype": "text/x-python",
   "name": "python",
   "nbconvert_exporter": "python",
   "pygments_lexer": "ipython3",
   "version": "3.12.9"
  }
 },
 "nbformat": 4,
 "nbformat_minor": 5
}
