{
 "cells": [
  {
   "cell_type": "code",
   "execution_count": 2,
   "id": "2ad5185e",
   "metadata": {},
   "outputs": [],
   "source": [
    "from langgraph.graph import StateGraph,START,END\n",
    "from langchain_ollama import ChatOllama\n",
    "from typing import TypedDict,Annotated\n",
    "from pydantic import BaseModel,Field\n",
    "import operator"
   ]
  },
  {
   "cell_type": "code",
   "execution_count": 3,
   "id": "99bdd2cd",
   "metadata": {},
   "outputs": [],
   "source": [
    "model=ChatOllama(model='gemma3')"
   ]
  },
  {
   "cell_type": "code",
   "execution_count": 4,
   "id": "082a6200",
   "metadata": {},
   "outputs": [],
   "source": [
    "class Evaluation_Schema(BaseModel):\n",
    "    feedback:str=Field(description='Detailed feedback for the essay')\n",
    "    score:int=Field(description='Score out of 10',ge=0,le=10)"
   ]
  },
  {
   "cell_type": "code",
   "execution_count": 5,
   "id": "f026978f",
   "metadata": {},
   "outputs": [],
   "source": [
    "essay = \"\"\"India in the Age of AI\n",
    "As the world enters a transformative era defined by artificial intelligence (AI), India stands at a critical juncture — one where it can either emerge as a global leader in AI innovation or risk falling behind in the technology race. The age of AI brings with it immense promise as well as unprecedented challenges, and how India navigates this landscape will shape its socio-economic and geopolitical future.\n",
    "\n",
    "India's strengths in the AI domain are rooted in its vast pool of skilled engineers, a thriving IT industry, and a growing startup ecosystem. With over 5 million STEM graduates annually and a burgeoning base of AI researchers, India possesses the intellectual capital required to build cutting-edge AI systems. Institutions like IITs, IIITs, and IISc have begun fostering AI research, while private players such as TCS, Infosys, and Wipro are integrating AI into their global services. In 2020, the government launched the National AI Strategy (AI for All) with a focus on inclusive growth, aiming to leverage AI in healthcare, agriculture, education, and smart mobility.\n",
    "\n",
    "One of the most promising applications of AI in India lies in agriculture, where predictive analytics can guide farmers on optimal sowing times, weather forecasts, and pest control. In healthcare, AI-powered diagnostics can help address India’s doctor-patient ratio crisis, particularly in rural areas. Educational platforms are increasingly using AI to personalize learning paths, while smart governance tools are helping improve public service delivery and fraud detection.\n",
    "\n",
    "However, the path to AI-led growth is riddled with challenges. Chief among them is the digital divide. While metropolitan cities may embrace AI-driven solutions, rural India continues to struggle with basic internet access and digital literacy. The risk of job displacement due to automation also looms large, especially for low-skilled workers. Without effective skilling and re-skilling programs, AI could exacerbate existing socio-economic inequalities.\n",
    "\n",
    "Another pressing concern is data privacy and ethics. As AI systems rely heavily on vast datasets, ensuring that personal data is used transparently and responsibly becomes vital. India is still shaping its data protection laws, and in the absence of a strong regulatory framework, AI systems may risk misuse or bias.\n",
    "\n",
    "To harness AI responsibly, India must adopt a multi-stakeholder approach involving the government, academia, industry, and civil society. Policies should promote open datasets, encourage responsible innovation, and ensure ethical AI practices. There is also a need for international collaboration, particularly with countries leading in AI research, to gain strategic advantage and ensure interoperability in global systems.\n",
    "\n",
    "India’s demographic dividend, when paired with responsible AI adoption, can unlock massive economic growth, improve governance, and uplift marginalized communities. But this vision will only materialize if AI is seen not merely as a tool for automation, but as an enabler of human-centered development.\n",
    "\"\"\""
   ]
  },
  {
   "cell_type": "code",
   "execution_count": 6,
   "id": "38e1cfc0",
   "metadata": {},
   "outputs": [],
   "source": [
    "essay2 = \"\"\"India and AI Time\n",
    "\n",
    "Now world change very fast because new tech call Artificial Intel… something (AI). India also want become big in this AI thing. If work hard, India can go top. But if no careful, India go back.\n",
    "\n",
    "India have many good. We have smart student, many engine-ear, and good IT peoples. Big company like TCS, Infosys, Wipro already use AI. Government also do program “AI for All”. It want AI in farm, doctor place, school and transport.\n",
    "\n",
    "In farm, AI help farmer know when to put seed, when rain come, how stop bug. In health, AI help doctor see sick early. In school, AI help student learn good. Government office use AI to find bad people and work fast.\n",
    "\n",
    "But problem come also. First is many villager no have phone or internet. So AI not help them. Second, many people lose job because AI and machine do work. Poor people get more bad.\n",
    "\n",
    "One more big problem is privacy. AI need big big data. Who take care? India still make data rule. If no strong rule, AI do bad.\n",
    "\n",
    "India must all people together – govern, school, company and normal people. We teach AI and make sure AI not bad. Also talk to other country and learn from them.\n",
    "\n",
    "If India use AI good way, we become strong, help poor and make better life. But if only rich use AI, and poor no get, then big bad thing happen.\n",
    "\n",
    "So, in short, AI time in India have many hope and many danger. We must go right road. AI must help all people, not only some. Then India grow big and world say \"good job India\".\"\"\""
   ]
  },
  {
   "cell_type": "code",
   "execution_count": 7,
   "id": "cc6f65e2",
   "metadata": {},
   "outputs": [],
   "source": [
    "from langchain.output_parsers import PydanticOutputParser\n",
    "from langchain_core.prompts import ChatPromptTemplate\n",
    "parser=PydanticOutputParser(pydantic_object=Evaluation_Schema)\n",
    "\n"
   ]
  },
  {
   "cell_type": "code",
   "execution_count": 8,
   "id": "0f837d96",
   "metadata": {},
   "outputs": [],
   "source": [
    "class UPSE_state(TypedDict):\n",
    "    essay:str\n",
    "    language_feedback:str\n",
    "    analysis_feedback:str\n",
    "    clarity_feedback:str\n",
    "    overall_feedback:str\n",
    "    individual_scores:Annotated[list[int],operator.add]\n",
    "    avg_score:float"
   ]
  },
  {
   "cell_type": "code",
   "execution_count": 9,
   "id": "c49b8d9a",
   "metadata": {},
   "outputs": [],
   "source": [
    "def evaluate_language(state:UPSE_state):\n",
    "    template=ChatPromptTemplate.from_template('Evaluate the language quality of the following essay and provide a feedback and assign a score out of 10 \\n {essay} \\n {format_instruction}',\n",
    "                                          \n",
    "                              partial_variables={'format_instruction':parser.get_format_instructions()}\n",
    "                             )\n",
    "    format_prompt=template.format(essay=state['essay'])\n",
    "    result=model.invoke(format_prompt)\n",
    "    final_result=parser.parse(result.content)\n",
    "    \n",
    "    return {'language_feedback':final_result.feedback,'individual_scores':[final_result.score]}\n",
    "    "
   ]
  },
  {
   "cell_type": "code",
   "execution_count": 10,
   "id": "38742d5f",
   "metadata": {},
   "outputs": [],
   "source": [
    "def evaluate_analysis(state:UPSE_state):\n",
    "    template=ChatPromptTemplate.from_template('Evaluate the depth of analysis of the following essay and provide a feedback and assign a score out of 10 \\n {essay} \\n {format_instruction}',               \n",
    "                              partial_variables={'format_instruction':parser.get_format_instructions()}\n",
    "                             )\n",
    "    prompt=template.format(essay=state['essay'])\n",
    "    result=model.invoke(prompt)\n",
    "    final_result=parser.parse(result.content)\n",
    "    \n",
    "    return {'analysis_feedback':final_result.feedback,'individual_scores':[final_result.score]}\n",
    "    \n",
    "    "
   ]
  },
  {
   "cell_type": "code",
   "execution_count": 11,
   "id": "5c2473d9",
   "metadata": {},
   "outputs": [],
   "source": [
    "def evaluate_thought(state:UPSE_state):\n",
    "    template=ChatPromptTemplate.from_template('Evaluate the clarity of thought of the following essay and provide a feedback and assign a score out of 10 \\n {essay} \\n {format_instruction}',               \n",
    "     partial_variables={'format_instruction':parser.get_format_instructions()}\n",
    "                             )\n",
    "    prompt=template.format(essay=state['essay'])\n",
    "    result=model.invoke(prompt)\n",
    "    final_result=parser.parse(result.content)\n",
    "    \n",
    "    return {'clarity_feedback':final_result.feedback,'individual_scores':[final_result.score]}"
   ]
  },
  {
   "cell_type": "code",
   "execution_count": 12,
   "id": "a604fd23",
   "metadata": {},
   "outputs": [],
   "source": [
    "\n",
    "def final_evaluation(state:UPSE_state):\n",
    "\n",
    "    # summary feedback\n",
    "    prompt = f'Based on the following feedbacks create a summarized feedback \\n language feedback - {state[\"language_feedback\"]} \\n depth of analysis feedback - {state[\"analysis_feedback\"]} \\n clarity of thought feedback - {state[\"clarity_feedback\"]}'\n",
    "    overall_feedback = model.invoke(prompt).content\n",
    "\n",
    "    # avg calculate\n",
    "    avg_score = sum(state['individual_scores'])/len(state['individual_scores'])\n",
    "\n",
    "    return {'overall_feedback': overall_feedback, 'avg_score': avg_score}"
   ]
  },
  {
   "cell_type": "code",
   "execution_count": 13,
   "id": "ba35768e",
   "metadata": {},
   "outputs": [],
   "source": [
    "graph=StateGraph(UPSE_state)\n",
    "\n",
    "graph.add_node('evaluate_language',evaluate_language)\n",
    "graph.add_node('evaluate_analysis',evaluate_analysis)\n",
    "graph.add_node('evaluate_thought',evaluate_thought)\n",
    "graph.add_node('final_evaluation',final_evaluation)\n",
    "\n",
    "graph.add_edge(START,'evaluate_language')\n",
    "graph.add_edge(START,'evaluate_analysis')\n",
    "graph.add_edge(START,'evaluate_thought')\n",
    "\n",
    "graph.add_edge('evaluate_language','final_evaluation')\n",
    "graph.add_edge('evaluate_analysis','final_evaluation')\n",
    "graph.add_edge('evaluate_thought','final_evaluation')\n",
    "\n",
    "graph.add_edge('final_evaluation',END)\n",
    "wf=graph.compile()"
   ]
  },
  {
   "cell_type": "code",
   "execution_count": 15,
   "id": "296c8ee6",
   "metadata": {},
   "outputs": [
    {
     "data": {
      "text/plain": [
       "{'essay': 'India and AI Time\\n\\nNow world change very fast because new tech call Artificial Intel… something (AI). India also want become big in this AI thing. If work hard, India can go top. But if no careful, India go back.\\n\\nIndia have many good. We have smart student, many engine-ear, and good IT peoples. Big company like TCS, Infosys, Wipro already use AI. Government also do program “AI for All”. It want AI in farm, doctor place, school and transport.\\n\\nIn farm, AI help farmer know when to put seed, when rain come, how stop bug. In health, AI help doctor see sick early. In school, AI help student learn good. Government office use AI to find bad people and work fast.\\n\\nBut problem come also. First is many villager no have phone or internet. So AI not help them. Second, many people lose job because AI and machine do work. Poor people get more bad.\\n\\nOne more big problem is privacy. AI need big big data. Who take care? India still make data rule. If no strong rule, AI do bad.\\n\\nIndia must all people together – govern, school, company and normal people. We teach AI and make sure AI not bad. Also talk to other country and learn from them.\\n\\nIf India use AI good way, we become strong, help poor and make better life. But if only rich use AI, and poor no get, then big bad thing happen.\\n\\nSo, in short, AI time in India have many hope and many danger. We must go right road. AI must help all people, not only some. Then India grow big and world say \"good job India\".',\n",
       " 'language_feedback': 'This essay provides a basic overview of India\\'s engagement with Artificial Intelligence, highlighting both the potential benefits and significant challenges. The writing is accessible and uses relatively simple language, making it suitable for a general audience. However, it suffers from several weaknesses that detract from its overall quality.\\n\\n**Strengths:**\\n*   **Clear Topic:** The essay clearly addresses the topic of India and AI.\\n*   **Identifies Key Issues:** It correctly identifies important concerns such as digital divide, job displacement, and data privacy.\\n*   **Illustrative Examples:**  The examples of AI applications in farming, healthcare, education, and government are relevant and understandable.\\n\\n**Weaknesses:**\\n*   **Lack of Depth:** The analysis remains quite superficial. It states facts but doesn\\'t delve deeply into the complexities of AI implementation, potential societal impacts, or specific strategies.\\n*   **Repetitive Language:** Phrases like \"AI not bad\" and \"big big data\" are repeated and lack sophistication.\\n*   **Awkward Phrasing & Grammatical Errors:** There are several instances of awkward phrasing and minor grammatical errors that disrupt the flow and credibility of the writing (e.g., \"something (AI)\", \"poor people get more bad\").\\n*   **Organization:** The structure could be improved. The introduction and conclusion are somewhat abrupt.\\n\\n**Suggestions for Improvement:**\\n*   **Expand on Arguments:** Instead of simply stating facts, elaborate on *why* these issues matter. Provide more concrete examples and data.\\n*   **Refine Language:** Use more precise and sophisticated vocabulary.\\n*   **Strengthen Structure:** Develop a more logical flow with stronger transitions between paragraphs.\\n*   **Proofread Carefully:**  Thoroughly proofread for grammatical errors and awkward phrasing.\\n\\n**Overall Score:** 6/10',\n",
       " 'analysis_feedback': \"This essay provides a basic overview of India's engagement with Artificial Intelligence, touching on key aspects like potential benefits, current initiatives, and associated challenges. However, the analysis is quite superficial and lacks depth. \\n\\n**Strengths:** The essay correctly identifies several relevant points, including India’s strengths (smart students, IT professionals, existing companies like TCS), the government’s ‘AI for All’ program, and potential applications in agriculture, healthcare, education, and government. It also accurately points out the critical issues of digital divide, job displacement, and data privacy concerns.\\n\\n**Weaknesses:** The analysis is largely descriptive rather than analytical. It presents facts without delving into the *why* or *how*. For instance, it mentions the digital divide but doesn't explore the *extent* of the problem or potential solutions beyond a general statement.  Similarly, the discussion of job displacement is brief and lacks any consideration of the potential for new job creation or the need for retraining programs. The essay doesn't critically assess the effectiveness of the 'AI for All' program or the potential pitfalls of relying solely on data-driven solutions.  There’s no exploration of the ethical considerations of AI, bias in algorithms, or the geopolitical implications of India’s AI ambitions. The conclusion is somewhat simplistic and relies on a basic 'good vs. bad' framing. \\n\\n**Suggestions for Improvement:** To elevate the analysis, the essay could benefit from:\\n*   **Quantifiable Data:** Incorporating statistics to illustrate the scale of the challenges (e.g., percentage of rural households without internet access, unemployment rates affected by automation).\\n*   **Case Studies:** Including specific examples of how AI is being implemented in India, along with their successes and failures.\\n*   **Critical Evaluation:** Offering a more nuanced assessment of government policies and industry initiatives.\\n*   **Exploring Ethical Considerations:** Addressing issues like algorithmic bias, data security, and responsible AI development.\\n\\n**Overall Score:** 5/10.  It demonstrates a basic understanding of the topic but requires significantly more depth, analysis, and critical thinking to achieve a higher score.\",\n",
       " 'clarity_feedback': 'This essay presents a basic and understandable overview of India\\'s potential engagement with AI, highlighting both opportunities and challenges. The structure is logical, moving from a general statement about India\\'s ambition to specific examples of AI applications and potential pitfalls. However, the writing is quite simplistic and lacks depth. The language is repetitive (e.g., ‘big big data’), and the arguments could be developed more substantially. \\n\\nThe essay effectively identifies key issues like digital inequality, job displacement, and data privacy, which are crucial considerations for India’s AI strategy. The suggestion for collaboration between government, schools, and companies is also sound. However, it lacks critical analysis and doesn\\'t delve into the nuances of these problems. For instance, the discussion of ‘job displacement’ could explore the types of jobs at risk and potential retraining initiatives. Similarly, the ‘data rule’ issue needs more detail – what specific regulations are needed, and what mechanisms would ensure their enforcement?\\n\\nThe essay would benefit from stronger evidence or examples to support its claims. Citing specific government initiatives or industry reports would add credibility. Furthermore, the concluding sentence, \\'Then India grow big and world say \"good job India\"\\', feels somewhat cliché and lacks a sophisticated perspective. A stronger conclusion would reiterate the core argument and offer a more forward-looking statement.\\n\\nOverall, this is a good starting point for understanding the topic, but it needs further development and more critical engagement.\\n',\n",
       " 'overall_feedback': 'Okay, here’s a summarized feedback report based on all three pieces of feedback:\\n\\n**Overall Assessment:** The essay demonstrates a basic understanding of India’s engagement with Artificial Intelligence, but it’s hampered by a lack of depth, critical analysis, and polished writing. The overall score across the feedback is a consistent 5.5/10.\\n\\n**Key Strengths:**\\n\\n*   **Identifies Relevant Issues:** The essay correctly recognizes key challenges and opportunities related to India’s AI journey, including the digital divide, job displacement, data privacy, and the ‘AI for All’ initiative.\\n*   **Clear Topic:** The essay clearly addresses the topic of India and AI.\\n*   **Logical Structure:** The essay presents a generally logical flow of information.\\n\\n**Major Weaknesses:**\\n\\n*   **Lack of Depth & Analytical Rigor:** This is the most consistent criticism. The essay primarily *describes* the situation rather than *analyzing* it. It states facts without exploring the ‘why’ behind them, the potential consequences, or the complexities of implementation.\\n*   **Superficial Language & Repetition:** The writing utilizes simplistic, often repetitive language (\"big big data,\" “good vs bad”).  The use of clichés like “Then India grow big and world say “good job India”” detracts from credibility.\\n*   **Insufficient Evidence & Examples:** The essay lacks concrete data, specific case studies, or references to relevant reports and initiatives.\\n*   **Limited Critical Engagement:** The essay doesn\\'t critically evaluate government programs, industry strategies, or address ethical considerations (like algorithmic bias or data security).\\n*   **Weak Conclusion:** The conclusion is overly simplistic and lacks a forward-looking perspective.\\n\\n**Recommendations for Improvement (Summarized):**\\n\\n*   **Expand with Data & Evidence:** Incorporate statistics, data points, and references to credible sources to support claims and demonstrate the scale of the challenges.\\n*   **Develop Analytical Arguments:** Go beyond simply stating facts – explain *why* issues matter, *how* they might play out, and consider potential solutions.\\n*   **Refine Language & Tone:**  Use precise, sophisticated vocabulary and avoid clichés.\\n*   **Strengthen Structure & Transitions:** Improve the flow of the essay with stronger transitions between paragraphs and a more logical progression of ideas.\\n*   **Address Ethical Considerations:**  Explore the ethical implications of AI development and deployment in India.\\n*   **Provide Specific Examples:**  Include detailed case studies of AI applications in India, highlighting successes and failures.\\n\\n\\n\\nWould you like me to elaborate on any specific aspect of this summary, or perhaps focus on a particular recommendation?',\n",
       " 'individual_scores': [5, 6, 6],\n",
       " 'avg_score': 5.666666666666667}"
      ]
     },
     "execution_count": 15,
     "metadata": {},
     "output_type": "execute_result"
    }
   ],
   "source": [
    "input_state={'essay':essay2}\n",
    "wf.invoke(input_state)"
   ]
  },
  {
   "cell_type": "code",
   "execution_count": null,
   "id": "ec992684",
   "metadata": {},
   "outputs": [],
   "source": []
  }
 ],
 "metadata": {
  "kernelspec": {
   "display_name": "my_env",
   "language": "python",
   "name": "python3"
  },
  "language_info": {
   "codemirror_mode": {
    "name": "ipython",
    "version": 3
   },
   "file_extension": ".py",
   "mimetype": "text/x-python",
   "name": "python",
   "nbconvert_exporter": "python",
   "pygments_lexer": "ipython3",
   "version": "3.12.9"
  }
 },
 "nbformat": 4,
 "nbformat_minor": 5
}
