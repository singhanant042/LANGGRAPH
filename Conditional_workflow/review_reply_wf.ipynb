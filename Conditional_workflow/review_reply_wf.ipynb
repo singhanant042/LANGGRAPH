{
 "cells": [
  {
   "cell_type": "code",
   "execution_count": 1,
   "id": "08e062de",
   "metadata": {},
   "outputs": [],
   "source": [
    "from langgraph.graph import StateGraph,START,END\n",
    "from langchain_ollama import ChatOllama\n",
    "from typing import TypedDict,Literal\n",
    "from pydantic import BaseModel,Field\n",
    "from langchain.output_parsers import PydanticOutputParser\n",
    "from langchain_core.prompts import ChatPromptTemplate\n"
   ]
  },
  {
   "cell_type": "code",
   "execution_count": 2,
   "id": "8f5839ea",
   "metadata": {},
   "outputs": [],
   "source": [
    "model=ChatOllama(model='gemma3')\n"
   ]
  },
  {
   "cell_type": "code",
   "execution_count": 3,
   "id": "78904ac8",
   "metadata": {},
   "outputs": [],
   "source": [
    "class Sentiment_Schema(BaseModel):\n",
    "    sentiment:Literal['positive','negative']=Field(description='Sentiment of the review')"
   ]
  },
  {
   "cell_type": "code",
   "execution_count": 4,
   "id": "bea4702a",
   "metadata": {},
   "outputs": [],
   "source": [
    "parser=PydanticOutputParser(pydantic_object=Sentiment_Schema)\n"
   ]
  },
  {
   "cell_type": "code",
   "execution_count": 5,
   "id": "be484175",
   "metadata": {},
   "outputs": [],
   "source": [
    "review=\"The software is so good\"\n"
   ]
  },
  {
   "cell_type": "code",
   "execution_count": 6,
   "id": "eb1f0cb5",
   "metadata": {},
   "outputs": [],
   "source": [
    "class review_state(TypedDict):\n",
    "    review:str\n",
    "    sentiment:Literal[\"positive\",\"negative\"]\n",
    "    diagnosis:dict\n",
    "    response:str"
   ]
  },
  {
   "cell_type": "code",
   "execution_count": 7,
   "id": "8d5acd78",
   "metadata": {},
   "outputs": [],
   "source": [
    "def find_sentiment(state:review_state):\n",
    "    template=ChatPromptTemplate.from_template('Give the sentiment of the following review:{review}\\n{format_instruction}',\n",
    "                                          \n",
    "                              partial_variables={'format_instruction':parser.get_format_instructions()})\n",
    "    prompt=template.format(review=state['review'])\n",
    "    result=model.invoke(prompt)\n",
    "    final_result=parser.parse(result.content)\n",
    "    return {'sentiment':final_result.sentiment}\n",
    "\n",
    "\n",
    "def check_sentiment(state:review_state)->Literal[\"positive_response\",\"run_diagnosis\"]:\n",
    "    if state['sentiment']=='postive':\n",
    "        return 'positive_response'\n",
    "    else:\n",
    "        return 'run_diagnosis'    "
   ]
  },
  {
   "cell_type": "code",
   "execution_count": 8,
   "id": "4a5e9662",
   "metadata": {},
   "outputs": [],
   "source": [
    "def positive_response(state:review_state):\n",
    "     prompt=f\"Write a warm thank-you response  for the review:{state['review']}\"\n",
    "     result=model.invoke(prompt)\n",
    "     \n",
    "     response=result.content\n",
    "     return {'response':response}\n",
    " \n"
   ]
  },
  {
   "cell_type": "code",
   "execution_count": 9,
   "id": "26bfff12",
   "metadata": {},
   "outputs": [],
   "source": [
    "class Diagnosis(BaseModel):\n",
    "    issue_type: Literal[\"UX\", \"Performance\", \"Bug\", \"Support\", \"Other\"] = Field(description='The category of issue mentioned in the review')\n",
    "    tone: Literal[\"angry\", \"frustrated\", \"disappointed\", \"calm\"] = Field(description='The emotional tone expressed by the user')\n",
    "    urgency: Literal[\"low\", \"medium\", \"high\"] = Field(description='How urgent or critical the issue appears to be')"
   ]
  },
  {
   "cell_type": "code",
   "execution_count": 10,
   "id": "6694b577",
   "metadata": {},
   "outputs": [],
   "source": [
    "parser_1=PydanticOutputParser(pydantic_object=Diagnosis)"
   ]
  },
  {
   "cell_type": "code",
   "execution_count": 11,
   "id": "b160d316",
   "metadata": {},
   "outputs": [],
   "source": [
    "def run_diagnosis(state:review_state):\n",
    "     template=ChatPromptTemplate.from_template('Diagnose this negative review:{review}\\n\"Return the issue_type,tone,urgency\"\\n{format_instruction}',                                          \n",
    "     partial_variables={'format_instruction':parser_1.get_format_instructions()})   \n",
    "     \n",
    "     prompt=template.format(review=state['review'])\n",
    "     result=model.invoke(prompt)\n",
    "     final_result=parser_1.parse(result.content)\n",
    "     print(final_result)\n",
    "     return {'diagnosis':final_result.model_dump()}\n",
    "     \n",
    "def negative_response(state:review_state):\n",
    "    diagnosis=state['diagnosis']\n",
    "    prompt=f\"\"\"You are a support assistant.\n",
    "      The user had a '{diagnosis['issue_type']}'issue,sounded '{diagnosis['tone']}',and marked urgency '{diagnosis['urgency']}'.\n",
    "      Write an empathetic,helpful resolution message.\"\"\"\n",
    "      \n",
    "    response=model.invoke(prompt)\n",
    "    return {'response':response.content}\n",
    "                                              \n",
    "                                              \n",
    "                                              "
   ]
  },
  {
   "cell_type": "code",
   "execution_count": 12,
   "id": "3355c819",
   "metadata": {},
   "outputs": [],
   "source": [
    "graph=StateGraph(review_state)\n",
    "\n",
    "#adding nodes\n",
    "\n",
    "graph.add_node('find_sentiment',find_sentiment)\n",
    "graph.add_node('positive_response',positive_response)\n",
    "graph.add_node('run_diagnosis',run_diagnosis)\n",
    "graph.add_node('negative_response',negative_response)\n",
    "\n",
    "\n",
    "#adding edge\n",
    "graph.add_edge(START,'find_sentiment')\n",
    "graph.add_conditional_edges('find_sentiment',check_sentiment)\n",
    "graph.add_edge('positive_response',END)\n",
    "\n",
    "graph.add_edge('run_diagnosis','negative_response')\n",
    "graph.add_edge('negative_response',END)\n",
    "\n",
    "wf=graph.compile()\n",
    "\n"
   ]
  },
  {
   "cell_type": "code",
   "execution_count": 13,
   "id": "95b3a474",
   "metadata": {},
   "outputs": [
    {
     "name": "stdout",
     "output_type": "stream",
     "text": [
      "issue_type='Bug' tone='frustrated' urgency='high'\n"
     ]
    },
    {
     "data": {
      "text/plain": [
       "{'review': 'I’ve been trying to log in for over an hour now, and the app keeps freezing on the authentication screen. I even tried reinstalling it, but no luck. This kind of bug is unacceptable, especially when it affects basic functionality.',\n",
       " 'sentiment': 'negative',\n",
       " 'diagnosis': {'issue_type': 'Bug', 'tone': 'frustrated', 'urgency': 'high'},\n",
       " 'response': 'Okay, here\\'s a draft resolution message designed to be empathetic, helpful, and address a high-urgency \"Bug\" issue:\\n\\nSubject: Regarding Your Urgent Bug Report - Let\\'s Get This Fixed!\\n\\nDear [User Name],\\n\\nI’m so sorry to hear you’re experiencing this frustrating bug – I completely understand how disruptive it can be, and I sincerely apologize for the trouble it’s causing.  We know your time is valuable, and we appreciate you bringing this to our attention so quickly. \\n\\nWe\\'ve marked this as a high-priority issue, and our team is actively investigating the root cause. [ Briefly state what’s being done - e.g., \"Our developers are already working on a fix,\" or \"We’re running diagnostics to pinpoint the problem.\"]\\n\\nWe’ll keep you updated on our progress every [ timeframe - e.g., 30 minutes, hour, 2 hours] with a concrete update. You can expect another message from us with [State what the update will contain - e.g., the estimated time to resolution, a temporary workaround if available, etc.].\\n\\nAgain, we truly appreciate your patience and understanding.  Thank you for helping us improve our product.\\n\\nSincerely,\\n\\nThe [Your Company Name] Support Team\\n\\n---\\n\\n**Important Notes & Customization:**\\n\\n*   **Replace the bracketed information** with the specific details.\\n*   **Be genuine:**  Make sure the tone reflects genuine empathy.\\n*   **Be specific about what you\\'re doing:** Vague promises are worse than saying you\\'re investigating.\\n*   **Set realistic expectations:** Don\\'t over-promise a fix.\\n*   **If you have a temporary workaround, *definitely* include it.**\\n\\nTo help me tailor this even further, could you tell me:\\n\\n*   What specific bug was reported? (A brief summary is fine).\\n*   What is your company’s name?'}"
      ]
     },
     "execution_count": 13,
     "metadata": {},
     "output_type": "execute_result"
    }
   ],
   "source": [
    "intial_state={\n",
    "    'review':\"I’ve been trying to log in for over an hour now, and the app keeps freezing on the authentication screen. I even tried reinstalling it, but no luck. This kind of bug is unacceptable, especially when it affects basic functionality.\"\n",
    "}\n",
    "wf.invoke(intial_state)"
   ]
  },
  {
   "cell_type": "code",
   "execution_count": null,
   "id": "a04f426b",
   "metadata": {},
   "outputs": [],
   "source": []
  }
 ],
 "metadata": {
  "kernelspec": {
   "display_name": "my_env",
   "language": "python",
   "name": "python3"
  },
  "language_info": {
   "codemirror_mode": {
    "name": "ipython",
    "version": 3
   },
   "file_extension": ".py",
   "mimetype": "text/x-python",
   "name": "python",
   "nbconvert_exporter": "python",
   "pygments_lexer": "ipython3",
   "version": "3.12.9"
  }
 },
 "nbformat": 4,
 "nbformat_minor": 5
}
