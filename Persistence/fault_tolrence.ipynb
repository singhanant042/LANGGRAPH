{
 "cells": [
  {
   "cell_type": "code",
   "execution_count": 2,
   "id": "5c832760",
   "metadata": {},
   "outputs": [],
   "source": [
    "from langgraph.graph import StateGraph,START,END\n",
    "from langgraph.checkpoint.memory import InMemorySaver\n",
    "from typing import TypedDict\n",
    "import time"
   ]
  },
  {
   "cell_type": "code",
   "execution_count": 3,
   "id": "80d13af5",
   "metadata": {},
   "outputs": [],
   "source": [
    "class state(TypedDict):\n",
    "    input:str\n",
    "    s_1=str\n",
    "    s_2=str\n",
    "    s_3=str"
   ]
  },
  {
   "cell_type": "code",
   "execution_count": null,
   "id": "79dcd357",
   "metadata": {},
   "outputs": [],
   "source": [
    "def step_1(state:state):\n",
    "    print(\"Step_1 executed\")\n",
    "    return {'s_1':'done','input':state['input']}\n",
    "\n",
    "def step_2(state:state):\n",
    "    print('Step_3 Hanging.....interrupting manually')\n",
    "    time.sleep(30)\n",
    "    return {'s_2':'done'}\n",
    "\n",
    "def step_3(state:state):\n",
    "    print('Step 3 executed')\n",
    "    return {'s_3':'done'}"
   ]
  },
  {
   "cell_type": "code",
   "execution_count": 6,
   "id": "d800eaf5",
   "metadata": {},
   "outputs": [],
   "source": [
    "graph=StateGraph(state)\n",
    "\n",
    "graph.add_node('step_1',step_1)\n",
    "graph.add_node('step_2',step_2)\n",
    "graph.add_node('step_3',step_3)\n",
    "\n",
    "graph.add_edge(START,'step_1')\n",
    "graph.add_edge('step_1','step_2')\n",
    "graph.add_edge('step_2','step_3')\n",
    "graph.add_edge('step_3',END)\n",
    "\n",
    "check_pointer=InMemorySaver()\n",
    "wf=graph.compile(checkpointer=check_pointer)"
   ]
  },
  {
   "cell_type": "code",
   "execution_count": 9,
   "id": "8a0a8302",
   "metadata": {},
   "outputs": [
    {
     "name": "stdout",
     "output_type": "stream",
     "text": [
      "Running graph\n",
      "Step_1 executed\n",
      "Hanging.....interrupting manually\n",
      "Kernel manually interrupted\n"
     ]
    }
   ],
   "source": [
    "try:\n",
    "  print(\"Running graph\")\n",
    "  wf.invoke({'input':'start'},config={\"configurable\":{\"thread_id\":\"1\"}})\n",
    "except KeyboardInterrupt:\n",
    "    print(\"Kernel manually interrupted\")"
   ]
  },
  {
   "cell_type": "code",
   "execution_count": 11,
   "id": "64a1e5ac",
   "metadata": {},
   "outputs": [
    {
     "data": {
      "text/plain": [
       "StateSnapshot(values={'input': 'start'}, next=('step_2',), config={'configurable': {'thread_id': '1', 'checkpoint_ns': '', 'checkpoint_id': '1f06efc2-cbcc-6f33-8001-187b65cda45b'}}, metadata={'source': 'loop', 'step': 1, 'parents': {}, 'thread_id': '1'}, created_at='2025-08-01T17:23:00.987064+00:00', parent_config={'configurable': {'thread_id': '1', 'checkpoint_ns': '', 'checkpoint_id': '1f06efc2-cbc9-61a2-8000-54665a6f04a2'}}, tasks=(PregelTask(id='ab857c4b-0f48-1442-d35d-884058514493', name='step_2', path=('__pregel_pull', 'step_2'), error=None, interrupts=(), state=None, result=None),), interrupts=())"
      ]
     },
     "execution_count": 11,
     "metadata": {},
     "output_type": "execute_result"
    }
   ],
   "source": [
    "wf.get_state(config={\"configurable\":{\"thread_id\":\"1\"}})"
   ]
  },
  {
   "cell_type": "code",
   "execution_count": 12,
   "id": "a4a7b20c",
   "metadata": {},
   "outputs": [
    {
     "name": "stdout",
     "output_type": "stream",
     "text": [
      "Hanging.....interrupting manually\n",
      "Step 3 executed\n"
     ]
    }
   ],
   "source": [
    "final=wf.invoke(None,config={\"configurable\":{\"thread_id\":\"1\"}})"
   ]
  },
  {
   "cell_type": "code",
   "execution_count": 14,
   "id": "eac01762",
   "metadata": {},
   "outputs": [
    {
     "name": "stdout",
     "output_type": "stream",
     "text": [
      "{'input': 'start'}\n"
     ]
    }
   ],
   "source": [
    "print(final)"
   ]
  },
  {
   "cell_type": "code",
   "execution_count": null,
   "id": "6dde11fc",
   "metadata": {},
   "outputs": [],
   "source": []
  }
 ],
 "metadata": {
  "kernelspec": {
   "display_name": "my_env",
   "language": "python",
   "name": "python3"
  },
  "language_info": {
   "codemirror_mode": {
    "name": "ipython",
    "version": 3
   },
   "file_extension": ".py",
   "mimetype": "text/x-python",
   "name": "python",
   "nbconvert_exporter": "python",
   "pygments_lexer": "ipython3",
   "version": "3.12.9"
  }
 },
 "nbformat": 4,
 "nbformat_minor": 5
}
